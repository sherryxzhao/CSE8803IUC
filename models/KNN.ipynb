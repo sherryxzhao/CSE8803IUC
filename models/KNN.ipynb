{
 "cells": [
  {
   "cell_type": "markdown",
   "metadata": {},
   "source": [
    "# Userdefined methods used to train and test KNN model"
   ]
  },
  {
   "cell_type": "code",
   "execution_count": 28,
   "metadata": {},
   "outputs": [],
   "source": [
    "# generate data for n-th iteration for k-fold cross validation\n",
    "def getdata_cv(Xtrain, Ytrain, k=5, n=0):\n",
    "    batch_size = int(Xtrain.shape[0] / k)\n",
    "    if n == 0:\n",
    "        Xtrain_batch = Xtrain[batch_size:, :]\n",
    "        Ytrain_batch = Ytrain[batch_size:]\n",
    "        Xtest_batch = Xtrain[:batch_size, :]\n",
    "        Ytest_batch = Ytrain[:batch_size]\n",
    "    elif n == k-1:\n",
    "        Xtrain_batch = Xtrain[:n*batch_size, :]\n",
    "        Ytrain_batch = Ytrain[:n*batch_size]\n",
    "        Xtest_batch = Xtrain[n*batch_size:, :]\n",
    "        Ytest_batch = Ytrain[n*batch_size:]\n",
    "    else:\n",
    "        start_idx = n*batch_size\n",
    "        end_idx = (n+1)*batch_size\n",
    "        Xtrain_batch = np.concatenate((Xtrain[:start_idx, :], Xtrain[end_idx:, :]))\n",
    "        Ytrain_batch = np.concatenate((Ytrain[:start_idx], Ytrain[end_idx:]))\n",
    "        Xtest_batch = Xtrain[start_idx:end_idx, :]\n",
    "        Ytest_batch = Ytrain[start_idx:end_idx]\n",
    "    return Xtrain_batch, Ytrain_batch, Xtest_batch, Ytest_batch\n",
    "\n",
    "def train_knn(Xtrain, Ytrain, k=5):\n",
    "    loss_sum = 0\n",
    "    acc_sum = 0\n",
    "    for i in range(k):\n",
    "        Xtrain_batch, Ytrain_batch, Xtest_batch, Ytest_batch = getdata_cv(Xtrain, Ytrain, k=k, n=i)\n",
    "        #train model with k=11 as found by plot of optimal k\n",
    "        model = KNeighborsRegressor(n_neighbors=11).fit(Xtrain_batch, Ytrain_batch)\n",
    "        pred = model.predict(Xtest_batch)\n",
    "        loss_sum += mean_squared_error(pred, Ytest_batch)\n",
    "    return loss_sum/k, acc_sum/k\n",
    "\n",
    "def accuracy(pred, gt, percentage=0.05):\n",
    "    gt_upper = gt + gt * percentage\n",
    "    gt_lower = gt - gt * percentage\n",
    "    return np.mean((pred <= gt_upper) & (pred >= gt_lower))"
   ]
  },
  {
   "cell_type": "markdown",
   "metadata": {},
   "source": [
    "# Training KNN model"
   ]
  },
  {
   "cell_type": "code",
   "execution_count": 29,
   "metadata": {},
   "outputs": [],
   "source": [
    "#TRAINING KNN MODEL \n",
    "\n",
    "import pandas as pd\n",
    "from sklearn.model_selection import train_test_split\n",
    "from sklearn.neighbors import KNeighborsRegressor\n",
    "from sklearn.metrics import r2_score, mean_absolute_error\n",
    "from sklearn.model_selection import KFold\n",
    "import numpy as np\n",
    "from sklearn.metrics import mean_squared_error\n",
    "\n",
    "# Load the dataset into a pandas DataFrame\n",
    "train_lda_la = pd.read_csv('la_training_lda_final.csv', index_col=['date'])\n",
    "test_lda_la = pd.read_csv('la_testing_lda_final.csv', index_col=['date'])\n",
    "nlp_data_la = pd.read_csv('Los_Angeles_feat.csv', index_col=['date'])\n",
    "\n",
    "train_lda_b = pd.read_csv('b_training_lda_final.csv', index_col=['date'])\n",
    "test_lda_b = pd.read_csv('b_testing_lda_final.csv', index_col=['date'])\n",
    "nlp_data_b = pd.read_csv('Boston_feat.csv', index_col=['date'])\n",
    "\n",
    "gt_la = pd.read_csv('LA22_groundtruth.csv')\n",
    "\n",
    "gt_b = pd.read_csv('Boston22_groundtruth.csv')\n",
    "\n",
    "gt_la['Total']= gt_la.iloc[:, 1:].sum(axis=1)\n",
    "gt_la['date'] = gt_la['OCCURRED_ON_DATE'].str[:10]\n",
    "\n",
    "gt_b['Total']= gt_b.iloc[:, 1:].sum(axis=1)\n",
    "gt_b['date'] = gt_b['OCCURRED_ON_DATE'].str[:10]\n",
    "\n",
    "gt_la = gt_la.set_index('date')\n",
    "gt_b = gt_b.set_index('date')\n",
    "\n",
    "X_train_la = train_lda_la.join(nlp_data_la)\n",
    "X_test_la = test_lda_la.join(nlp_data_la)\n",
    "\n",
    "X_train_b = train_lda_b.join(nlp_data_b)\n",
    "X_test_b = test_lda_b.join(nlp_data_b)\n",
    "\n",
    "Y_train_la = gt_la.reindex(X_train_la.index)['Total']\n",
    "Y_test_la = gt_la.reindex(X_test_la.index)['Total']\n",
    "\n",
    "Y_train_b = gt_b.reindex(X_train_b.index)['Total']\n",
    "Y_test_b = gt_b.reindex(X_test_b.index)['Total']\n",
    "\n",
    "\n",
    "#Train the models using 5 fold cross validation\n",
    "#Los Angeles\n",
    "loss_la = train_knn(X_train_la.to_numpy(), Y_train_la.to_numpy())\n",
    "#Boston\n",
    "loss_b = train_knn(X_train_b.to_numpy(), Y_train_b.to_numpy())"
   ]
  },
  {
   "cell_type": "markdown",
   "metadata": {},
   "source": [
    "# Validation of KNN"
   ]
  },
  {
   "cell_type": "code",
   "execution_count": 30,
   "metadata": {},
   "outputs": [
    {
     "name": "stdout",
     "output_type": "stream",
     "text": [
      "32552.634642313547\n",
      "0.4520547945205479\n",
      "0.7123287671232876\n",
      "0.8767123287671232\n"
     ]
    }
   ],
   "source": [
    "#Los Angeles Model\n",
    "#define percentages for prediction comparison\n",
    "percentage = [0.05, 0.1, 0.2]\n",
    "#Train KNN model\n",
    "model_la = KNeighborsRegressor(n_neighbors=15).fit(X_train_la, Y_train_la)\n",
    "#Infer test data\n",
    "pred_la = model_la.predict(X_test_la)\n",
    "#calculate mse\n",
    "mse_loss_la = mean_squared_error(pred_la, Y_test_la)\n",
    "#print results\n",
    "print(mse_loss_la)\n",
    "for j in range(len(percentage)):\n",
    "        acc = accuracy(pred_la, Y_test_la, percentage[j])\n",
    "        print(acc)"
   ]
  },
  {
   "cell_type": "code",
   "execution_count": 31,
   "metadata": {},
   "outputs": [
    {
     "name": "stdout",
     "output_type": "stream",
     "text": [
      "2386.0286149162857\n",
      "0.2054794520547945\n",
      "0.5753424657534246\n",
      "0.9178082191780822\n"
     ]
    }
   ],
   "source": [
    "#Boston\n",
    "#define percentages for prediction comparison\n",
    "percentage = [0.05, 0.1, 0.2]\n",
    "#Train KNN model\n",
    "model_b = KNeighborsRegressor(n_neighbors=15).fit(X_train_b, Y_train_b)\n",
    "#Infer test data\n",
    "pred_b = model_b.predict(X_test_b)\n",
    "#calculate mse\n",
    "mse_loss_b = mean_squared_error(pred_b, Y_test_b)\n",
    "#print results\n",
    "print(mse_loss_b)\n",
    "for j in range(len(percentage)):\n",
    "        acc = accuracy(pred_b, Y_test_b, percentage[j])\n",
    "        print(acc)"
   ]
  },
  {
   "cell_type": "markdown",
   "metadata": {},
   "source": [
    "# Appendix: Finding Optimal K"
   ]
  },
  {
   "cell_type": "code",
   "execution_count": 37,
   "metadata": {},
   "outputs": [
    {
     "data": {
      "image/png": "[encoded data removed]",
      "text/plain": [
       "<Figure size 432x288 with 1 Axes>"
      ]
     },
     "metadata": {
      "needs_background": "light"
     },
     "output_type": "display_data"
    }
   ],
   "source": [
    "import matplotlib.pyplot as plt\n",
    "import numpy as np\n",
    "#kfold cross validation\n",
    "kfold = 5\n",
    "#define range of k to test [1 to 30]\n",
    "k_range = range(1,31)\n",
    "# Create an empty list to store the cross-validation scores\n",
    "k_scores = []\n",
    "\n",
    "#FOR LA-\n",
    "Xtrain = X_train_la\n",
    "Ytrain = Y_train_la\n",
    "#FOR BOSTON (uncomment)\n",
    "#Xtrain = X_train_b\n",
    "#Ytrain = Y_train_b\n",
    "\n",
    "# Test each value of k\n",
    "for k in k_range:\n",
    "    loss_sum = 0\n",
    "    for i in range(kfold):\n",
    "        Xtrain_batch, Ytrain_batch, Xtest_batch, Ytest_batch = getdata_cv(Xtrain.to_numpy(), Ytrain.to_numpy(), k=kfold, n=i)\n",
    "        model = KNeighborsRegressor(n_neighbors=k).fit(Xtrain_batch, Ytrain_batch)\n",
    "        pred = model.predict(Xtest_batch)\n",
    "        loss_sum += mean_squared_error(pred, Ytest_batch)\n",
    "    k_scores.append(loss_sum/kfold)\n",
    "\n",
    "# Plot the values of k vs the cross-validation scores\n",
    "plt.plot(k_range, k_scores)\n",
    "plt.xlabel('Value of K for KNN')\n",
    "plt.ylabel('Cross-validated MSE')\n",
    "plt.show()"
   ]
  },
  {
   "cell_type": "code",
   "execution_count": null,
   "metadata": {},
   "outputs": [],
   "source": []
  }
 ],
 "metadata": {
  "kernelspec": {
   "display_name": "Python 3",
   "language": "python",
   "name": "python3"
  },
  "language_info": {
   "codemirror_mode": {
    "name": "ipython",
    "version": 3
   },
   "file_extension": ".py",
   "mimetype": "text/x-python",
   "name": "python",
   "nbconvert_exporter": "python",
   "pygments_lexer": "ipython3",
   "version": "3.8.5"
  }
 },
 "nbformat": 4,
 "nbformat_minor": 4
}
