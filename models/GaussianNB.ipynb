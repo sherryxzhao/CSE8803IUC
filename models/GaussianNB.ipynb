{
 "cells": [
  {
   "cell_type": "code",
   "execution_count": 1,
   "metadata": {},
   "outputs": [],
   "source": [
    "import numpy as np\n",
    "import pandas as pd\n",
    "from sklearn.linear_model import Lasso\n",
    "from sklearn.metrics import mean_squared_error"
   ]
  },
  {
   "cell_type": "code",
   "execution_count": 9,
   "metadata": {},
   "outputs": [
    {
     "name": "stdout",
     "output_type": "stream",
     "text": [
      "/Users/jessica/Desktop/CSE8803IUC-main\n"
     ]
    }
   ],
   "source": [
    "import os\n",
    "cwd = os.getcwd()\n",
    "print(cwd)"
   ]
  },
  {
   "cell_type": "code",
   "execution_count": 49,
   "metadata": {},
   "outputs": [],
   "source": [
    "train_lda = pd.read_csv('/Users/jessica/Desktop/CSE8803IUC-main/data/b_training_lda_final.csv', index_col=['date'])\n",
    "test_lda = pd.read_csv('/Users/jessica/Desktop/CSE8803IUC-main/data/b_testing_lda_final.csv', index_col=['date'])\n",
    "nlp_data = pd.read_csv('/Users/jessica/Desktop/CSE8803IUC-main/data/Boston_feat.csv', index_col=['date'])"
   ]
  },
  {
   "cell_type": "code",
   "execution_count": 50,
   "metadata": {},
   "outputs": [],
   "source": [
    "X_train = train_lda.join(nlp_data)\n",
    "X_test = test_lda.join(nlp_data)"
   ]
  },
  {
   "cell_type": "code",
   "execution_count": 51,
   "metadata": {},
   "outputs": [
    {
     "data": {
      "text/plain": [
       "((292, 19), (73, 19))"
      ]
     },
     "execution_count": 51,
     "metadata": {},
     "output_type": "execute_result"
    }
   ],
   "source": [
    "X_train.shape, X_test.shape"
   ]
  },
  {
   "cell_type": "code",
   "execution_count": 52,
   "metadata": {},
   "outputs": [],
   "source": [
    "gt = pd.read_csv('/Users/jessica/Desktop/CSE8803IUC-main/data/Boston22_groundtruth.csv')"
   ]
  },
  {
   "cell_type": "code",
   "execution_count": 53,
   "metadata": {},
   "outputs": [],
   "source": [
    "gt['Total']= gt.iloc[:, 1:].sum(axis=1)\n",
    "gt['date'] = gt['OCCURRED_ON_DATE'].str[:10]"
   ]
  },
  {
   "cell_type": "code",
   "execution_count": 54,
   "metadata": {},
   "outputs": [],
   "source": [
    "gt = gt.set_index('date')"
   ]
  },
  {
   "cell_type": "code",
   "execution_count": 55,
   "metadata": {},
   "outputs": [],
   "source": [
    "Y_train = gt.reindex(X_train.index)['Total']\n",
    "Y_test = gt.reindex(X_test.index)['Total']"
   ]
  },
  {
   "cell_type": "code",
   "execution_count": 56,
   "metadata": {},
   "outputs": [],
   "source": [
    "# generate data for n-th iteration for k-fold cross validation\n",
    "def getdata_cv(Xtrain, Ytrain, k=5, n=0):\n",
    "    batch_size = int(Xtrain.shape[0] / k)\n",
    "    if n == 0:\n",
    "        Xtrain_batch = Xtrain[batch_size:, :]\n",
    "        Ytrain_batch = Ytrain[batch_size:]\n",
    "        Xtest_batch = Xtrain[:batch_size, :]\n",
    "        Ytest_batch = Ytrain[:batch_size]\n",
    "    elif n == k-1:\n",
    "        Xtrain_batch = Xtrain[:n*batch_size, :]\n",
    "        Ytrain_batch = Ytrain[:n*batch_size]\n",
    "        Xtest_batch = Xtrain[n*batch_size:, :]\n",
    "        Ytest_batch = Ytrain[n*batch_size:]\n",
    "    else:\n",
    "        start_idx = n*batch_size\n",
    "        end_idx = (n+1)*batch_size\n",
    "        Xtrain_batch = np.concatenate((Xtrain[:start_idx, :], Xtrain[end_idx:, :]))\n",
    "        Ytrain_batch = np.concatenate((Ytrain[:start_idx], Ytrain[end_idx:]))\n",
    "        Xtest_batch = Xtrain[start_idx:end_idx, :]\n",
    "        Ytest_batch = Ytrain[start_idx:end_idx]\n",
    "    return Xtrain_batch, Ytrain_batch, Xtest_batch, Ytest_batch\n"
   ]
  },
  {
   "cell_type": "code",
   "execution_count": 71,
   "metadata": {},
   "outputs": [],
   "source": [
    "# hyper parameter\n",
    "percentage = [0.05, 0.1, 0.2]"
   ]
  },
  {
   "cell_type": "code",
   "execution_count": 72,
   "metadata": {},
   "outputs": [],
   "source": [
    "def accuracy(pred, gt, percentage=0.05):\n",
    "    gt_upper = gt + gt * percentage\n",
    "    gt_lower = gt - gt * percentage\n",
    "    return np.mean((pred <= gt_upper) & (pred >= gt_lower))"
   ]
  },
  {
   "cell_type": "code",
   "execution_count": 77,
   "metadata": {},
   "outputs": [],
   "source": [
    "from sklearn.naive_bayes import GaussianNB\n",
    "#clf = GaussianNB()\n",
    "#clf.fit(X, Y)\n",
    "def train_NB(Xtrain, Ytrain, percentage, k=5):\n",
    "    loss_sum = 0\n",
    "    acc_sum = 0\n",
    "    for i in range(k):\n",
    "        Xtrain_batch, Ytrain_batch, Xtest_batch, Ytest_batch = getdata_cv(Xtrain, Ytrain, k=k, n=i)\n",
    "        model = GaussianNB().fit(Xtrain_batch, Ytrain_batch)\n",
    "        pred = model.predict(Xtest_batch)\n",
    "        loss_sum += mean_squared_error(pred, Ytest_batch)\n",
    "        acc_sum += accuracy(pred, Ytest_batch, percentage)\n",
    "        print(model.score(Xtest_batch, Ytest_batch))\n",
    "        #score: Mean accuracy of self.predict(X) w.r.t. y.\n",
    "    return loss_sum/k, acc_sum/k"
   ]
  },
  {
   "cell_type": "code",
   "execution_count": 78,
   "metadata": {},
   "outputs": [
    {
     "name": "stdout",
     "output_type": "stream",
     "text": [
      "0.034482758620689655\n",
      "0.0\n",
      "0.034482758620689655\n",
      "0.0\n",
      "0.0\n",
      "0.034482758620689655\n",
      "0.0\n",
      "0.034482758620689655\n",
      "0.0\n",
      "0.0\n",
      "0.034482758620689655\n",
      "0.0\n",
      "0.034482758620689655\n",
      "0.0\n",
      "0.0\n"
     ]
    }
   ],
   "source": [
    "result_loss = np.zeros(len(percentage))\n",
    "result_acc = np.zeros(len(percentage))\n",
    "for j in range(len(percentage)):\n",
    "    loss, acc = train_NB(X_train.to_numpy(), Y_train.to_numpy(), percentage[j])\n",
    "    result_loss[j] = loss\n",
    "    result_acc[j] = acc\n"
   ]
  },
  {
   "cell_type": "code",
   "execution_count": 79,
   "metadata": {},
   "outputs": [
    {
     "data": {
      "text/plain": [
       "array([4921.02896552, 4921.02896552, 4921.02896552])"
      ]
     },
     "execution_count": 79,
     "metadata": {},
     "output_type": "execute_result"
    }
   ],
   "source": [
    "result_loss"
   ]
  },
  {
   "cell_type": "code",
   "execution_count": 80,
   "metadata": {},
   "outputs": [
    {
     "data": {
      "text/plain": [
       "array([0.17804598, 0.42735632, 0.74609195])"
      ]
     },
     "execution_count": 80,
     "metadata": {},
     "output_type": "execute_result"
    }
   ],
   "source": [
    "result_acc"
   ]
  },
  {
   "cell_type": "code",
   "execution_count": null,
   "metadata": {},
   "outputs": [],
   "source": []
  }
 ],
 "metadata": {
  "kernelspec": {
   "display_name": "Python 3 (ipykernel)",
   "language": "python",
   "name": "python3"
  },
  "language_info": {
   "codemirror_mode": {
    "name": "ipython",
    "version": 3
   },
   "file_extension": ".py",
   "mimetype": "text/x-python",
   "name": "python",
   "nbconvert_exporter": "python",
   "pygments_lexer": "ipython3",
   "version": "3.7.16"
  }
 },
 "nbformat": 4,
 "nbformat_minor": 2
}
