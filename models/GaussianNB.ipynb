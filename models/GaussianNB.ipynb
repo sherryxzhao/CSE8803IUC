{
 "cells": [
  {
   "cell_type": "code",
   "execution_count": 1,
   "metadata": {},
   "outputs": [],
   "source": [
    "import numpy as np\n",
    "import pandas as pd\n",
    "from sklearn.linear_model import Lasso\n",
    "from sklearn.metrics import mean_squared_error"
   ]
  },
  {
   "cell_type": "code",
   "execution_count": 2,
   "metadata": {},
   "outputs": [
    {
     "name": "stdout",
     "output_type": "stream",
     "text": [
      "/Users/jessica/Desktop/CSE8803IUC-main\n"
     ]
    }
   ],
   "source": [
    "import os\n",
    "cwd = os.getcwd()\n",
    "print(cwd)"
   ]
  },
  {
   "cell_type": "code",
   "execution_count": 3,
   "metadata": {},
   "outputs": [],
   "source": [
    "train_lda = pd.read_csv('/Users/jessica/Desktop/CSE8803IUC-main/data/la_training_lda_final.csv', index_col=['date'])\n",
    "test_lda = pd.read_csv('/Users/jessica/Desktop/CSE8803IUC-main/data/la_testing_lda_final.csv', index_col=['date'])\n",
    "nlp_data = pd.read_csv('/Users/jessica/Desktop/CSE8803IUC-main/data/Los_Angeles_feat.csv', index_col=['date'])"
   ]
  },
  {
   "cell_type": "code",
   "execution_count": 4,
   "metadata": {},
   "outputs": [],
   "source": [
    "X_train = train_lda.join(nlp_data)\n",
    "X_test = test_lda.join(nlp_data)"
   ]
  },
  {
   "cell_type": "code",
   "execution_count": 5,
   "metadata": {},
   "outputs": [
    {
     "data": {
      "text/plain": [
       "((292, 19), (73, 19))"
      ]
     },
     "execution_count": 5,
     "metadata": {},
     "output_type": "execute_result"
    }
   ],
   "source": [
    "X_train.shape, X_test.shape"
   ]
  },
  {
   "cell_type": "code",
   "execution_count": 6,
   "metadata": {},
   "outputs": [],
   "source": [
    "gt = pd.read_csv('/Users/jessica/Desktop/CSE8803IUC-main/data/LA22_groundtruth.csv')"
   ]
  },
  {
   "cell_type": "code",
   "execution_count": 7,
   "metadata": {},
   "outputs": [],
   "source": [
    "gt['Total']= gt.iloc[:, 1:].sum(axis=1)\n",
    "gt['date'] = gt['OCCURRED_ON_DATE'].str[:10]"
   ]
  },
  {
   "cell_type": "code",
   "execution_count": 8,
   "metadata": {},
   "outputs": [],
   "source": [
    "gt = gt.set_index('date')"
   ]
  },
  {
   "cell_type": "code",
   "execution_count": 9,
   "metadata": {},
   "outputs": [],
   "source": [
    "Y_train = gt.reindex(X_train.index)['Total']\n",
    "Y_test = gt.reindex(X_test.index)['Total']"
   ]
  },
  {
   "cell_type": "code",
   "execution_count": 10,
   "metadata": {},
   "outputs": [],
   "source": [
    "# generate data for n-th iteration for k-fold cross validation\n",
    "def getdata_cv(Xtrain, Ytrain, k=5, n=0):\n",
    "    batch_size = int(Xtrain.shape[0] / k)\n",
    "    if n == 0:\n",
    "        Xtrain_batch = Xtrain[batch_size:, :]\n",
    "        Ytrain_batch = Ytrain[batch_size:]\n",
    "        Xtest_batch = Xtrain[:batch_size, :]\n",
    "        Ytest_batch = Ytrain[:batch_size]\n",
    "    elif n == k-1:\n",
    "        Xtrain_batch = Xtrain[:n*batch_size, :]\n",
    "        Ytrain_batch = Ytrain[:n*batch_size]\n",
    "        Xtest_batch = Xtrain[n*batch_size:, :]\n",
    "        Ytest_batch = Ytrain[n*batch_size:]\n",
    "    else:\n",
    "        start_idx = n*batch_size\n",
    "        end_idx = (n+1)*batch_size\n",
    "        Xtrain_batch = np.concatenate((Xtrain[:start_idx, :], Xtrain[end_idx:, :]))\n",
    "        Ytrain_batch = np.concatenate((Ytrain[:start_idx], Ytrain[end_idx:]))\n",
    "        Xtest_batch = Xtrain[start_idx:end_idx, :]\n",
    "        Ytest_batch = Ytrain[start_idx:end_idx]\n",
    "    return Xtrain_batch, Ytrain_batch, Xtest_batch, Ytest_batch\n"
   ]
  },
  {
   "cell_type": "code",
   "execution_count": 11,
   "metadata": {},
   "outputs": [],
   "source": [
    "# hyper parameter\n",
    "percentage = [0.05, 0.1, 0.2]"
   ]
  },
  {
   "cell_type": "code",
   "execution_count": 12,
   "metadata": {},
   "outputs": [],
   "source": [
    "def accuracy(pred, gt, percentage=0.05):\n",
    "    gt_upper = gt + gt * percentage\n",
    "    gt_lower = gt - gt * percentage\n",
    "    return np.mean((pred <= gt_upper) & (pred >= gt_lower))"
   ]
  },
  {
   "cell_type": "code",
   "execution_count": 13,
   "metadata": {},
   "outputs": [],
   "source": [
    "from sklearn.naive_bayes import GaussianNB\n",
    "#clf = GaussianNB()\n",
    "#clf.fit(X, Y)\n",
    "def train_NB(Xtrain, Ytrain, percentage, k=5):\n",
    "    loss_sum = 0\n",
    "    acc_sum = 0\n",
    "    for i in range(k):\n",
    "        Xtrain_batch, Ytrain_batch, Xtest_batch, Ytest_batch = getdata_cv(Xtrain, Ytrain, k=k, n=i)\n",
    "        model = GaussianNB().fit(Xtrain_batch, Ytrain_batch)\n",
    "        pred = model.predict(Xtest_batch)\n",
    "        loss_sum += mean_squared_error(pred, Ytest_batch)\n",
    "        print(mean_squared_error(pred, Ytest_batch))\n",
    "        acc_sum += accuracy(pred, Ytest_batch, percentage)\n",
    "        #print(model.score(Xtest_batch, Ytest_batch))\n",
    "        #score: Mean accuracy of self.predict(X) w.r.t. y.\n",
    "    print(\"mean of MSE is\", np.mean(loss_sum)/5)\n",
    "    return loss_sum/k, acc_sum/k"
   ]
  },
  {
   "cell_type": "code",
   "execution_count": 14,
   "metadata": {},
   "outputs": [
    {
     "name": "stdout",
     "output_type": "stream",
     "text": [
      "34938.24657534246\n",
      "0.5205479452054794\n",
      "0.7808219178082192\n",
      "0.8767123287671232\n"
     ]
    }
   ],
   "source": [
    "model = GaussianNB().fit(X_train, Y_train)\n",
    "pred = model.predict(X_test)\n",
    "mse_loss = mean_squared_error(pred, Y_test)\n",
    "print(mse_loss)\n",
    "for j in range(len(percentage)):\n",
    "        acc = accuracy(pred, Y_test, percentage[j])\n",
    "        print(acc)"
   ]
  },
  {
   "cell_type": "code",
   "execution_count": 15,
   "metadata": {},
   "outputs": [
    {
     "name": "stdout",
     "output_type": "stream",
     "text": [
      "64199.03448275862\n",
      "78012.20689655172\n",
      "75515.5172413793\n",
      "57053.24137931035\n",
      "40180.26666666667\n",
      "mean of MSE is 62992.05333333333\n",
      "64199.03448275862\n",
      "78012.20689655172\n",
      "75515.5172413793\n",
      "57053.24137931035\n",
      "40180.26666666667\n",
      "mean of MSE is 62992.05333333333\n",
      "64199.03448275862\n",
      "78012.20689655172\n",
      "75515.5172413793\n",
      "57053.24137931035\n",
      "40180.26666666667\n",
      "mean of MSE is 62992.05333333333\n"
     ]
    }
   ],
   "source": [
    "result_loss = np.zeros(len(percentage))\n",
    "result_acc = np.zeros(len(percentage))\n",
    "for j in range(len(percentage)):\n",
    "    loss, acc = train_NB(X_train.to_numpy(), Y_train.to_numpy(), percentage[j])\n",
    "    result_loss[j] = loss\n",
    "    result_acc[j] = acc\n"
   ]
  },
  {
   "cell_type": "code",
   "execution_count": 16,
   "metadata": {},
   "outputs": [
    {
     "data": {
      "text/plain": [
       "array([62992.05333333, 62992.05333333, 62992.05333333])"
      ]
     },
     "execution_count": 16,
     "metadata": {},
     "output_type": "execute_result"
    }
   ],
   "source": [
    "result_loss"
   ]
  },
  {
   "cell_type": "code",
   "execution_count": 17,
   "metadata": {},
   "outputs": [
    {
     "data": {
      "text/plain": [
       "array([0.29425287, 0.55781609, 0.83885057])"
      ]
     },
     "execution_count": 17,
     "metadata": {},
     "output_type": "execute_result"
    }
   ],
   "source": [
    "result_acc"
   ]
  },
  {
   "cell_type": "code",
   "execution_count": 18,
   "metadata": {},
   "outputs": [],
   "source": [
    "from sklearn.neighbors import KNeighborsClassifier\n",
    "def train_KNN(Xtrain, Ytrain, percentage, k=5):\n",
    "    loss_sum = 0\n",
    "    acc_sum = 0\n",
    "    for i in range(k):\n",
    "        Xtrain_batch, Ytrain_batch, Xtest_batch, Ytest_batch = getdata_cv(Xtrain, Ytrain, k=k, n=i)\n",
    "        model = KNeighborsClassifier(n_neighbors=5).fit(Xtrain_batch, Ytrain_batch)\n",
    "        pred = model.predict(Xtest_batch)\n",
    "        loss_sum += mean_squared_error(pred, Ytest_batch)\n",
    "        acc_sum += accuracy(pred, Ytest_batch, percentage)\n",
    "        print(mean_squared_error(pred, Ytest_batch))\n",
    "        #print(model.score(Xtest_batch, Ytest_batch))\n",
    "        #score: Mean accuracy of self.predict(X) w.r.t. y.\n",
    "    print(\"mean of MSE is\", np.mean(loss_sum)/5)\n",
    "    return loss_sum/k, acc_sum/k"
   ]
  },
  {
   "cell_type": "code",
   "execution_count": 19,
   "metadata": {},
   "outputs": [
    {
     "name": "stdout",
     "output_type": "stream",
     "text": [
      "89042.4827586207\n",
      "79570.06896551725\n",
      "91517.6551724138\n",
      "67925.10344827586\n",
      "43908.73333333333\n",
      "mean of MSE is 74392.80873563219\n",
      "89042.4827586207\n",
      "79570.06896551725\n",
      "91517.6551724138\n",
      "67925.10344827586\n",
      "43908.73333333333\n",
      "mean of MSE is 74392.80873563219\n",
      "89042.4827586207\n",
      "79570.06896551725\n",
      "91517.6551724138\n",
      "67925.10344827586\n",
      "43908.73333333333\n",
      "mean of MSE is 74392.80873563219\n"
     ]
    }
   ],
   "source": [
    "result_loss = np.zeros(len(percentage))\n",
    "result_acc = np.zeros(len(percentage))\n",
    "for j in range(len(percentage)):\n",
    "    loss, acc = train_KNN(X_train.to_numpy(), Y_train.to_numpy(), percentage[j])\n",
    "    result_loss[j] = loss\n",
    "    result_acc[j] = acc"
   ]
  },
  {
   "cell_type": "code",
   "execution_count": 20,
   "metadata": {},
   "outputs": [
    {
     "data": {
      "text/plain": [
       "array([74392.80873563, 74392.80873563, 74392.80873563])"
      ]
     },
     "execution_count": 20,
     "metadata": {},
     "output_type": "execute_result"
    }
   ],
   "source": [
    "result_loss"
   ]
  },
  {
   "cell_type": "code",
   "execution_count": 21,
   "metadata": {},
   "outputs": [
    {
     "data": {
      "text/plain": [
       "array([0.25666667, 0.54402299, 0.82482759])"
      ]
     },
     "execution_count": 21,
     "metadata": {},
     "output_type": "execute_result"
    }
   ],
   "source": [
    "result_acc"
   ]
  },
  {
   "cell_type": "code",
   "execution_count": null,
   "metadata": {},
   "outputs": [],
   "source": []
  }
 ],
 "metadata": {
  "kernelspec": {
   "display_name": "Python 3 (ipykernel)",
   "language": "python",
   "name": "python3"
  },
  "language_info": {
   "codemirror_mode": {
    "name": "ipython",
    "version": 3
   },
   "file_extension": ".py",
   "mimetype": "text/x-python",
   "name": "python",
   "nbconvert_exporter": "python",
   "pygments_lexer": "ipython3",
   "version": "3.7.16"
  }
 },
 "nbformat": 4,
 "nbformat_minor": 2
}
