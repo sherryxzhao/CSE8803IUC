{
 "cells": [
  {
   "cell_type": "code",
   "execution_count": 1,
   "metadata": {},
   "outputs": [],
   "source": [
    "import numpy as np\n",
    "import pandas as pd\n",
    "from sklearn.linear_model import Lasso\n",
    "from sklearn.metrics import mean_squared_error"
   ]
  },
  {
   "cell_type": "code",
   "execution_count": 2,
   "metadata": {},
   "outputs": [],
   "source": [
    "train_lda = pd.read_csv('../data/la_training_lda_final.csv', index_col=['date'])\n",
    "test_lda = pd.read_csv('../data/la_testing_lda_final.csv', index_col=['date'])\n",
    "nlp_data = pd.read_csv('../data/Los_Angeles_feat.csv', index_col=['date'])"
   ]
  },
  {
   "cell_type": "code",
   "execution_count": 3,
   "metadata": {},
   "outputs": [],
   "source": [
    "X_train = train_lda.join(nlp_data)\n",
    "X_test = test_lda.join(nlp_data)"
   ]
  },
  {
   "cell_type": "code",
   "execution_count": 4,
   "metadata": {},
   "outputs": [
    {
     "data": {
      "text/plain": [
       "((292, 19), (73, 19))"
      ]
     },
     "execution_count": 4,
     "metadata": {},
     "output_type": "execute_result"
    }
   ],
   "source": [
    "X_train.shape, X_test.shape"
   ]
  },
  {
   "cell_type": "code",
   "execution_count": 5,
   "metadata": {},
   "outputs": [],
   "source": [
    "gt = pd.read_csv('../data/LA22_groundtruth.csv')"
   ]
  },
  {
   "cell_type": "code",
   "execution_count": 6,
   "metadata": {},
   "outputs": [],
   "source": [
    "gt['Total']= gt.iloc[:, 1:].sum(axis=1)\n",
    "gt['date'] = gt['OCCURRED_ON_DATE'].str[:10]"
   ]
  },
  {
   "cell_type": "code",
   "execution_count": 7,
   "metadata": {},
   "outputs": [],
   "source": [
    "gt = gt.set_index('date')"
   ]
  },
  {
   "cell_type": "code",
   "execution_count": 8,
   "metadata": {},
   "outputs": [],
   "source": [
    "Y_train = gt.reindex(X_train.index)['Total']\n",
    "Y_test = gt.reindex(X_test.index)['Total']"
   ]
  },
  {
   "cell_type": "code",
   "execution_count": 9,
   "metadata": {},
   "outputs": [],
   "source": [
    "# generate data for n-th iteration for k-fold cross validation\n",
    "def getdata_cv(Xtrain, Ytrain, k=5, n=0):\n",
    "    batch_size = int(Xtrain.shape[0] / k)\n",
    "    if n == 0:\n",
    "        Xtrain_batch = Xtrain[batch_size:, :]\n",
    "        Ytrain_batch = Ytrain[batch_size:]\n",
    "        Xtest_batch = Xtrain[:batch_size, :]\n",
    "        Ytest_batch = Ytrain[:batch_size]\n",
    "    elif n == k-1:\n",
    "        Xtrain_batch = Xtrain[:n*batch_size, :]\n",
    "        Ytrain_batch = Ytrain[:n*batch_size]\n",
    "        Xtest_batch = Xtrain[n*batch_size:, :]\n",
    "        Ytest_batch = Ytrain[n*batch_size:]\n",
    "    else:\n",
    "        start_idx = n*batch_size\n",
    "        end_idx = (n+1)*batch_size\n",
    "        Xtrain_batch = np.concatenate((Xtrain[:start_idx, :], Xtrain[end_idx:, :]))\n",
    "        Ytrain_batch = np.concatenate((Ytrain[:start_idx], Ytrain[end_idx:]))\n",
    "        Xtest_batch = Xtrain[start_idx:end_idx, :]\n",
    "        Ytest_batch = Ytrain[start_idx:end_idx]\n",
    "    return Xtrain_batch, Ytrain_batch, Xtest_batch, Ytest_batch\n"
   ]
  },
  {
   "cell_type": "code",
   "execution_count": 10,
   "metadata": {},
   "outputs": [],
   "source": [
    "# hyper parameter for LASSO\n",
    "alpha = [0.1, 0.3, 0.5, 1, 10]\n",
    "# allowed error\n",
    "percentage = [0.05, 0.1, 0.2]"
   ]
  },
  {
   "cell_type": "code",
   "execution_count": 11,
   "metadata": {},
   "outputs": [],
   "source": [
    "def accuracy(pred, gt, percentage=0.05):\n",
    "    gt_upper = gt + gt * percentage\n",
    "    gt_lower = gt - gt * percentage\n",
    "    return np.mean((pred <= gt_upper) & (pred >= gt_lower))"
   ]
  },
  {
   "cell_type": "code",
   "execution_count": 12,
   "metadata": {},
   "outputs": [],
   "source": [
    "def train_lasso(Xtrain, Ytrain, alpha, percentage, k=5):\n",
    "    loss_sum = 0\n",
    "    acc_sum = 0\n",
    "    for i in range(k):\n",
    "        Xtrain_batch, Ytrain_batch, Xtest_batch, Ytest_batch = getdata_cv(Xtrain, Ytrain, k=k, n=i)\n",
    "        model = Lasso(alpha=alpha).fit(Xtrain_batch, Ytrain_batch)\n",
    "        pred = model.predict(Xtest_batch)\n",
    "        loss_sum += mean_squared_error(pred, Ytest_batch)\n",
    "        acc_sum += accuracy(pred, Ytest_batch, percentage)\n",
    "    return loss_sum/k, acc_sum/k"
   ]
  },
  {
   "cell_type": "code",
   "execution_count": 13,
   "metadata": {},
   "outputs": [],
   "source": [
    "result_loss = np.zeros((len(alpha), len(percentage)))\n",
    "result_acc = np.zeros((len(alpha), len(percentage)))\n",
    "for i in range(len(alpha)):\n",
    "    for j in range(len(percentage)):\n",
    "        loss, acc = train_lasso(X_train.to_numpy(), Y_train.to_numpy(), alpha[i], percentage[j])\n",
    "        result_loss[i, j] = loss\n",
    "        result_acc[i, j] = acc\n"
   ]
  },
  {
   "cell_type": "code",
   "execution_count": 14,
   "metadata": {},
   "outputs": [
    {
     "data": {
      "text/plain": [
       "array([[44130.47845274, 44130.47845274, 44130.47845274],\n",
       "       [43705.12911651, 43705.12911651, 43705.12911651],\n",
       "       [43591.147594  , 43591.147594  , 43591.147594  ],\n",
       "       [43411.30348354, 43411.30348354, 43411.30348354],\n",
       "       [43349.891062  , 43349.891062  , 43349.891062  ]])"
      ]
     },
     "execution_count": 14,
     "metadata": {},
     "output_type": "execute_result"
    }
   ],
   "source": [
    "result_loss"
   ]
  },
  {
   "cell_type": "code",
   "execution_count": 15,
   "metadata": {},
   "outputs": [
    {
     "data": {
      "text/plain": [
       "array([[0.37321839, 0.62022989, 0.86287356],\n",
       "       [0.37333333, 0.62367816, 0.86954023],\n",
       "       [0.36643678, 0.62022989, 0.87298851],\n",
       "       [0.36988506, 0.62022989, 0.87298851],\n",
       "       [0.36988506, 0.62022989, 0.87298851]])"
      ]
     },
     "execution_count": 15,
     "metadata": {},
     "output_type": "execute_result"
    }
   ],
   "source": [
    "result_acc"
   ]
  },
  {
   "attachments": {},
   "cell_type": "markdown",
   "metadata": {},
   "source": [
    "## evaluate the model on test set"
   ]
  },
  {
   "cell_type": "code",
   "execution_count": 17,
   "metadata": {},
   "outputs": [
    {
     "name": "stdout",
     "output_type": "stream",
     "text": [
      "32567.119867643407\n",
      "0.547945205479452\n",
      "0.684931506849315\n",
      "0.8767123287671232\n"
     ]
    }
   ],
   "source": [
    "alpha = 0.3\n",
    "\n",
    "model = Lasso(alpha=alpha).fit(X_train, Y_train)\n",
    "pred = model.predict(X_test)\n",
    "mse_loss = mean_squared_error(pred, Y_test)\n",
    "print(mse_loss)\n",
    "for j in range(len(percentage)):\n",
    "        acc = accuracy(pred, Y_test, percentage[j])\n",
    "        print(acc)"
   ]
  },
  {
   "attachments": {},
   "cell_type": "markdown",
   "metadata": {},
   "source": [
    "## Boston dataset"
   ]
  },
  {
   "cell_type": "code",
   "execution_count": 18,
   "metadata": {},
   "outputs": [],
   "source": [
    "train_lda = pd.read_csv('../data/b_training_lda_final.csv', index_col=['date'])\n",
    "test_lda = pd.read_csv('../data/b_testing_lda_final.csv', index_col=['date'])\n",
    "nlp_data = pd.read_csv('../data/Boston_feat.csv', index_col=['date'])"
   ]
  },
  {
   "cell_type": "code",
   "execution_count": 19,
   "metadata": {},
   "outputs": [],
   "source": [
    "X_train = train_lda.join(nlp_data)\n",
    "X_test = test_lda.join(nlp_data)"
   ]
  },
  {
   "cell_type": "code",
   "execution_count": 28,
   "metadata": {},
   "outputs": [],
   "source": [
    "gt = pd.read_csv('../data/Boston22_groundtruth.csv')\n",
    "gt['Total']= gt.iloc[:, 1:].sum(axis=1)\n",
    "gt['date'] = gt['OCCURRED_ON_DATE'].str[:10]\n",
    "gt = gt.set_index('date')\n",
    "Y_train = gt.reindex(X_train.index)['Total']\n",
    "Y_test = gt.reindex(X_test.index)['Total']"
   ]
  },
  {
   "cell_type": "code",
   "execution_count": 30,
   "metadata": {},
   "outputs": [],
   "source": [
    "# hyper parameter for LASSO\n",
    "alpha = [0.1, 0.3, 0.5, 1, 10]\n",
    "percentage = [0.05, 0.1, 0.2]"
   ]
  },
  {
   "cell_type": "code",
   "execution_count": 31,
   "metadata": {},
   "outputs": [],
   "source": [
    "\n",
    "result_loss = np.zeros((len(alpha), len(percentage)))\n",
    "result_acc = np.zeros((len(alpha), len(percentage)))\n",
    "for i in range(len(alpha)):\n",
    "    for j in range(len(percentage)):\n",
    "        loss, acc = train_lasso(X_train.to_numpy(), Y_train.to_numpy(), alpha[i], percentage[j])\n",
    "        result_loss[i, j] = loss\n",
    "        result_acc[i, j] = acc"
   ]
  },
  {
   "cell_type": "code",
   "execution_count": 32,
   "metadata": {},
   "outputs": [
    {
     "data": {
      "text/plain": [
       "array([[2805.1539822 , 2805.1539822 , 2805.1539822 ],\n",
       "       [2788.73622457, 2788.73622457, 2788.73622457],\n",
       "       [2771.45642894, 2771.45642894, 2771.45642894],\n",
       "       [2765.81905737, 2765.81905737, 2765.81905737],\n",
       "       [2759.95864149, 2759.95864149, 2759.95864149]])"
      ]
     },
     "execution_count": 32,
     "metadata": {},
     "output_type": "execute_result"
    }
   ],
   "source": [
    "result_loss"
   ]
  },
  {
   "cell_type": "code",
   "execution_count": 33,
   "metadata": {},
   "outputs": [
    {
     "data": {
      "text/plain": [
       "array([[0.30137931, 0.56528736, 0.86655172],\n",
       "       [0.27724138, 0.57563218, 0.86310345],\n",
       "       [0.28758621, 0.58597701, 0.85965517],\n",
       "       [0.29103448, 0.58597701, 0.85965517],\n",
       "       [0.28413793, 0.58942529, 0.85632184]])"
      ]
     },
     "execution_count": 33,
     "metadata": {},
     "output_type": "execute_result"
    }
   ],
   "source": [
    "result_acc"
   ]
  },
  {
   "cell_type": "code",
   "execution_count": 36,
   "metadata": {},
   "outputs": [
    {
     "name": "stdout",
     "output_type": "stream",
     "text": [
      "2340.1657161434105\n",
      "0.2328767123287671\n",
      "0.589041095890411\n",
      "0.9041095890410958\n"
     ]
    }
   ],
   "source": [
    "alpha = 0.1\n",
    "\n",
    "model = Lasso(alpha=alpha).fit(X_train, Y_train)\n",
    "pred = model.predict(X_test)\n",
    "mse_loss = mean_squared_error(pred, Y_test)\n",
    "print(mse_loss)\n",
    "for j in range(len(percentage)):\n",
    "        acc = accuracy(pred, Y_test, percentage[j])\n",
    "        print(acc)"
   ]
  }
 ],
 "metadata": {
  "kernelspec": {
   "display_name": "base",
   "language": "python",
   "name": "python3"
  },
  "language_info": {
   "codemirror_mode": {
    "name": "ipython",
    "version": 3
   },
   "file_extension": ".py",
   "mimetype": "text/x-python",
   "name": "python",
   "nbconvert_exporter": "python",
   "pygments_lexer": "ipython3",
   "version": "3.9.13"
  },
  "orig_nbformat": 4
 },
 "nbformat": 4,
 "nbformat_minor": 2
}
