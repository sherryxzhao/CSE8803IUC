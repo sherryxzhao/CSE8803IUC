{
 "cells": [
  {
   "cell_type": "code",
   "execution_count": 66,
   "metadata": {},
   "outputs": [],
   "source": [
    "import numpy as np\n",
    "import pandas as pd\n",
    "from sklearn.linear_model import Lasso\n",
    "from sklearn.metrics import mean_squared_error"
   ]
  },
  {
   "cell_type": "code",
   "execution_count": 8,
   "metadata": {},
   "outputs": [],
   "source": [
    "train_lda = pd.read_csv('../data/la_training_lda_final.csv', index_col=['date'])\n",
    "test_lda = pd.read_csv('../data/la_testing_lda_final.csv', index_col=['date'])\n",
    "nlp_data = pd.read_csv('../data/Los_Angeles_feat.csv', index_col=['date'])"
   ]
  },
  {
   "cell_type": "code",
   "execution_count": 60,
   "metadata": {},
   "outputs": [],
   "source": [
    "X_train = train_lda.join(nlp_data)\n",
    "X_test = test_lda.join(nlp_data)"
   ]
  },
  {
   "cell_type": "code",
   "execution_count": 61,
   "metadata": {},
   "outputs": [
    {
     "data": {
      "text/plain": [
       "((292, 19), (73, 19))"
      ]
     },
     "execution_count": 61,
     "metadata": {},
     "output_type": "execute_result"
    }
   ],
   "source": [
    "X_train.shape, X_test.shape"
   ]
  },
  {
   "cell_type": "code",
   "execution_count": 77,
   "metadata": {},
   "outputs": [],
   "source": [
    "gt = pd.read_csv('../data/LA22_groundtruth.csv')"
   ]
  },
  {
   "cell_type": "code",
   "execution_count": 29,
   "metadata": {},
   "outputs": [
    {
     "name": "stderr",
     "output_type": "stream",
     "text": [
      "/var/folders/14/_2s80sn51wz7ply1zhf70mf40000gn/T/ipykernel_57790/1662310185.py:1: FutureWarning: Dropping of nuisance columns in DataFrame reductions (with 'numeric_only=None') is deprecated; in a future version this will raise TypeError.  Select only valid columns before calling the reduction.\n",
      "  gt['Total']= gt.iloc[:, 1:].sum(axis=1)\n"
     ]
    }
   ],
   "source": [
    "gt['Total']= gt.iloc[:, 1:].sum(axis=1)\n",
    "gt['date'] = gt['OCCURRED_ON_DATE'].str[:10]"
   ]
  },
  {
   "cell_type": "code",
   "execution_count": 52,
   "metadata": {},
   "outputs": [],
   "source": [
    "gt = gt.set_index('date')"
   ]
  },
  {
   "cell_type": "code",
   "execution_count": 62,
   "metadata": {},
   "outputs": [],
   "source": [
    "Y_train = gt.reindex(X_train.index)['Total']\n",
    "Y_test = gt.reindex(X_test.index)['Total']"
   ]
  },
  {
   "cell_type": "code",
   "execution_count": 64,
   "metadata": {},
   "outputs": [],
   "source": [
    "# generate data for n-th iteration for k-fold cross validation\n",
    "def getdata_cv(Xtrain, Ytrain, k=5, n=0):\n",
    "    batch_size = int(Xtrain.shape[0] / k)\n",
    "    if n == 0:\n",
    "        Xtrain_batch = Xtrain[batch_size:, :]\n",
    "        Ytrain_batch = Ytrain[batch_size:]\n",
    "        Xtest_batch = Xtrain[:batch_size, :]\n",
    "        Ytest_batch = Ytrain[:batch_size]\n",
    "    elif n == k-1:\n",
    "        Xtrain_batch = Xtrain[:n*batch_size, :]\n",
    "        Ytrain_batch = Ytrain[:n*batch_size]\n",
    "        Xtest_batch = Xtrain[n*batch_size:, :]\n",
    "        Ytest_batch = Ytrain[n*batch_size:]\n",
    "    else:\n",
    "        start_idx = n*batch_size\n",
    "        end_idx = (n+1)*batch_size\n",
    "        Xtrain_batch = np.concatenate((Xtrain[:start_idx, :], Xtrain[end_idx:, :]))\n",
    "        Ytrain_batch = np.concatenate((Ytrain[:start_idx], Ytrain[end_idx:]))\n",
    "        Xtest_batch = Xtrain[start_idx:end_idx, :]\n",
    "        Ytest_batch = Ytrain[start_idx:end_idx]\n",
    "    return Xtrain_batch, Ytrain_batch, Xtest_batch, Ytest_batch\n"
   ]
  },
  {
   "cell_type": "code",
   "execution_count": 83,
   "metadata": {},
   "outputs": [],
   "source": [
    "# hyper parameter for LASSO\n",
    "alpha = [0.1, 0.3, 0.5, 1, 10]\n",
    "percentage = [0.05, 0.1, 0.2]"
   ]
  },
  {
   "cell_type": "code",
   "execution_count": 73,
   "metadata": {},
   "outputs": [],
   "source": [
    "def accuracy(pred, gt, percentage=0.05):\n",
    "    gt_upper = gt + gt * percentage\n",
    "    gt_lower = gt - gt * percentage\n",
    "    return np.mean((pred <= gt_upper) & (pred >= gt_lower))"
   ]
  },
  {
   "cell_type": "code",
   "execution_count": 74,
   "metadata": {},
   "outputs": [],
   "source": [
    "def train_lasso(Xtrain, Ytrain, alpha, percentage, k=5):\n",
    "    loss_sum = 0\n",
    "    acc_sum = 0\n",
    "    for i in range(k):\n",
    "        Xtrain_batch, Ytrain_batch, Xtest_batch, Ytest_batch = getdata_cv(Xtrain, Ytrain, k=k, n=i)\n",
    "        model = Lasso(alpha=alpha).fit(Xtrain_batch, Ytrain_batch)\n",
    "        pred = model.predict(Xtest_batch)\n",
    "        loss_sum += mean_squared_error(pred, Ytest_batch)\n",
    "        acc_sum += accuracy(pred, Ytest_batch, percentage)\n",
    "    return loss_sum/k, acc_sum/k"
   ]
  },
  {
   "cell_type": "code",
   "execution_count": 84,
   "metadata": {},
   "outputs": [],
   "source": [
    "result_loss = np.zeros((len(alpha), len(percentage)))\n",
    "result_acc = np.zeros((len(alpha), len(percentage)))\n",
    "for i in range(len(alpha)):\n",
    "    for j in range(len(percentage)):\n",
    "        loss, acc = train_lasso(X_train.to_numpy(), Y_train.to_numpy(), alpha[i], percentage[j])\n",
    "        result_loss[i, j] = loss\n",
    "        result_acc[i, j] = acc\n"
   ]
  },
  {
   "cell_type": "code",
   "execution_count": 85,
   "metadata": {},
   "outputs": [
    {
     "data": {
      "text/plain": [
       "array([[176587.71953979, 176587.71953979, 176587.71953979],\n",
       "       [175902.57532253, 175902.57532253, 175902.57532253],\n",
       "       [174976.18705472, 174976.18705472, 174976.18705472],\n",
       "       [174364.59037601, 174364.59037601, 174364.59037601],\n",
       "       [173535.56509318, 173535.56509318, 173535.56509318]])"
      ]
     },
     "execution_count": 85,
     "metadata": {},
     "output_type": "execute_result"
    }
   ],
   "source": [
    "result_loss"
   ]
  },
  {
   "cell_type": "code",
   "execution_count": 86,
   "metadata": {},
   "outputs": [
    {
     "data": {
      "text/plain": [
       "array([[0.37321839, 0.61011494, 0.86287356],\n",
       "       [0.38344828, 0.61678161, 0.86965517],\n",
       "       [0.37678161, 0.62022989, 0.86954023],\n",
       "       [0.36643678, 0.62022989, 0.87298851],\n",
       "       [0.36988506, 0.62022989, 0.87298851]])"
      ]
     },
     "execution_count": 86,
     "metadata": {},
     "output_type": "execute_result"
    }
   ],
   "source": [
    "result_acc"
   ]
  }
 ],
 "metadata": {
  "kernelspec": {
   "display_name": "base",
   "language": "python",
   "name": "python3"
  },
  "language_info": {
   "codemirror_mode": {
    "name": "ipython",
    "version": 3
   },
   "file_extension": ".py",
   "mimetype": "text/x-python",
   "name": "python",
   "nbconvert_exporter": "python",
   "pygments_lexer": "ipython3",
   "version": "3.9.13"
  },
  "orig_nbformat": 4
 },
 "nbformat": 4,
 "nbformat_minor": 2
}
