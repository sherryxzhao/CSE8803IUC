{
  "cells": [
    {
      "cell_type": "code",
      "source": [
        "# Cell 1\n",
        "from google.colab import drive\n",
        "drive.mount('/content/drive')\n",
        "\n",
        "# Change to directory\n",
        "%cd '/content/drive/MyDrive/CSE 8803 IUC project'\n",
        "\n",
        "!pip install tweetnlp\n",
        "!pip install pandas"
      ],
      "metadata": {
        "id": "hqDs2ndiuvXK"
      },
      "execution_count": null,
      "outputs": []
    },
    {
      "cell_type": "code",
      "execution_count": null,
      "metadata": {
        "id": "7liimw3fubeS"
      },
      "outputs": [],
      "source": [
        "import tweetnlp\n",
        "import pandas as pd\n",
        "import datetime\n",
        "import numpy as np"
      ]
    },
    {
      "cell_type": "code",
      "source": [
        "location = 'Los Angeles'"
      ],
      "metadata": {
        "id": "lPeCn03YvVM8"
      },
      "execution_count": null,
      "outputs": []
    },
    {
      "cell_type": "code",
      "source": [
        "df = pd.read_csv('data/' + location + '.csv')"
      ],
      "metadata": {
        "id": "W6N4vdBSgnhP"
      },
      "execution_count": null,
      "outputs": []
    },
    {
      "cell_type": "code",
      "source": [
        "df"
      ],
      "metadata": {
        "id": "mgds5g9ug1jw"
      },
      "execution_count": null,
      "outputs": []
    },
    {
      "cell_type": "code",
      "source": [
        "def analyze_time_frame(model, df, feat, task):\n",
        "  dates = pd.unique(df['date'])\n",
        "  analysis_list = []\n",
        "\n",
        "  for date in dates:\n",
        "    data_batch = df[df['date'] == date]\n",
        "    if task == 'sentiment':\n",
        "      results_batch = model.sentiment(data_batch['content'])\n",
        "    elif task == 'irony':\n",
        "      results_batch = model.irony(data_batch['content'])\n",
        "    elif task == 'hate':\n",
        "      results_batch = model.hate(data_batch['content'])\n",
        "    elif task == 'offensive':\n",
        "      results_batch = model.offensive(data_batch['content'])\n",
        "    tuple_batch = []\n",
        "    tuple_batch.append(date)\n",
        "    for f in feat:\n",
        "      temp = (pd.DataFrame(results_batch)['label'] == f)\n",
        "      tuple_batch.append(temp.mean(axis=0))\n",
        "    analysis_list.append(tuple_batch)\n",
        "  \n",
        "  return analysis_list"
      ],
      "metadata": {
        "id": "JzklMRcS5zvn"
      },
      "execution_count": null,
      "outputs": []
    },
    {
      "cell_type": "markdown",
      "source": [
        "## Sentiment Analysis"
      ],
      "metadata": {
        "id": "VhP2wl1m6jts"
      }
    },
    {
      "cell_type": "code",
      "source": [
        "model_sentiment = tweetnlp.load_model('sentiment')"
      ],
      "metadata": {
        "id": "4FVIk0YmehjP"
      },
      "execution_count": null,
      "outputs": []
    },
    {
      "cell_type": "code",
      "source": [
        "feat_sentiment = ['positive', 'negative', 'neutral']\n",
        "result_sentiment = analyze_time_frame(model_sentiment, df, feat_sentiment, 'sentiment')\n",
        "result_sentiment = pd.DataFrame(result_sentiment, columns=['date']+feat_sentiment).set_index('date')"
      ],
      "metadata": {
        "id": "KSQ9Zq8VuhYi"
      },
      "execution_count": null,
      "outputs": []
    },
    {
      "cell_type": "markdown",
      "source": [
        "## Irony Detection"
      ],
      "metadata": {
        "id": "YmYZrIHH6nyP"
      }
    },
    {
      "cell_type": "code",
      "source": [
        "model_irony = tweetnlp.load_model('irony')"
      ],
      "metadata": {
        "id": "GAXYuLvw6p0Y"
      },
      "execution_count": null,
      "outputs": []
    },
    {
      "cell_type": "code",
      "source": [
        "feat_irony = ['non_irony', 'irony']\n",
        "result_irony = analyze_time_frame(model_irony, df, feat_irony, 'irony')\n",
        "result_irony = pd.DataFrame(result_irony, columns=['date']+feat_irony).set_index('date')"
      ],
      "metadata": {
        "id": "yz9XjwDE6it0"
      },
      "execution_count": null,
      "outputs": []
    },
    {
      "cell_type": "markdown",
      "source": [
        "## Hate Speech Detection"
      ],
      "metadata": {
        "id": "FVMqZ0gD9owE"
      }
    },
    {
      "cell_type": "code",
      "source": [
        "model_hate = tweetnlp.load_model('hate')"
      ],
      "metadata": {
        "id": "WleLnLFd9sKB"
      },
      "execution_count": null,
      "outputs": []
    },
    {
      "cell_type": "code",
      "source": [
        "feat_hate = ['non-hate', 'hate']\n",
        "result_hate = analyze_time_frame(model_hate, df, feat_hate, 'hate')\n",
        "result_hate = pd.DataFrame(result_hate, columns=['date']+feat_hate).set_index('date')"
      ],
      "metadata": {
        "id": "2dUpgKSK9xSD"
      },
      "execution_count": null,
      "outputs": []
    },
    {
      "cell_type": "markdown",
      "source": [
        "## Offensive Language Detection"
      ],
      "metadata": {
        "id": "NDPoD6i_-0s-"
      }
    },
    {
      "cell_type": "code",
      "source": [
        "model_off = tweetnlp.load_model('offensive')"
      ],
      "metadata": {
        "id": "0z4ewkyb-0L-"
      },
      "execution_count": null,
      "outputs": []
    },
    {
      "cell_type": "code",
      "source": [
        "feat_off = ['non-offensive', 'offensive']\n",
        "result_off = analyze_time_frame(model_off, df, feat_off, 'offensive')\n",
        "result_off = pd.DataFrame(result_off, columns=['date']+feat_off).set_index('date')"
      ],
      "metadata": {
        "id": "HXtJwMa4--JM"
      },
      "execution_count": null,
      "outputs": []
    },
    {
      "cell_type": "code",
      "source": [
        "result = pd.concat((result_sentiment, result_irony, result_hate, result_off), axis=1)\n",
        "result.to_csv('data/' + location + '_feat.csv')"
      ],
      "metadata": {
        "id": "RolP64M8AhxI"
      },
      "execution_count": null,
      "outputs": []
    }
  ],
  "metadata": {
    "kernelspec": {
      "display_name": "base",
      "language": "python",
      "name": "python3"
    },
    "language_info": {
      "codemirror_mode": {
        "name": "ipython",
        "version": 3
      },
      "file_extension": ".py",
      "mimetype": "text/x-python",
      "name": "python",
      "nbconvert_exporter": "python",
      "pygments_lexer": "ipython3",
      "version": "3.9.6"
    },
    "orig_nbformat": 4,
    "colab": {
      "provenance": []
    }
  },
  "nbformat": 4,
  "nbformat_minor": 0
}