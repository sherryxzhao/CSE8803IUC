{
  "cells": [
    {
      "cell_type": "code",
      "source": [
        "# Cell 1\n",
        "from google.colab import drive\n",
        "drive.mount('/content/drive')\n",
        "\n",
        "# Change to directory\n",
        "%cd '/content/drive/MyDrive/CSE 8803 IUC project'\n",
        "\n",
        "!pip install snscrape\n",
        "!pip install pandas"
      ],
      "metadata": {
        "colab": {
          "base_uri": "https://localhost:8080/"
        },
        "id": "hqDs2ndiuvXK",
        "outputId": "eee05156-327e-4f95-b8ea-7d958a36f0db"
      },
      "execution_count": 1,
      "outputs": [
        {
          "output_type": "stream",
          "name": "stdout",
          "text": [
            "Drive already mounted at /content/drive; to attempt to forcibly remount, call drive.mount(\"/content/drive\", force_remount=True).\n",
            "/content/drive/MyDrive/CSE 8803 IUC project\n",
            "Looking in indexes: https://pypi.org/simple, https://us-python.pkg.dev/colab-wheels/public/simple/\n",
            "Requirement already satisfied: snscrape in /usr/local/lib/python3.9/dist-packages (0.6.2.20230320)\n",
            "Requirement already satisfied: filelock in /usr/local/lib/python3.9/dist-packages (from snscrape) (3.11.0)\n",
            "Requirement already satisfied: lxml in /usr/local/lib/python3.9/dist-packages (from snscrape) (4.9.2)\n",
            "Requirement already satisfied: beautifulsoup4 in /usr/local/lib/python3.9/dist-packages (from snscrape) (4.11.2)\n",
            "Requirement already satisfied: requests[socks] in /usr/local/lib/python3.9/dist-packages (from snscrape) (2.27.1)\n",
            "Requirement already satisfied: soupsieve>1.2 in /usr/local/lib/python3.9/dist-packages (from beautifulsoup4->snscrape) (2.4)\n",
            "Requirement already satisfied: charset-normalizer~=2.0.0 in /usr/local/lib/python3.9/dist-packages (from requests[socks]->snscrape) (2.0.12)\n",
            "Requirement already satisfied: urllib3<1.27,>=1.21.1 in /usr/local/lib/python3.9/dist-packages (from requests[socks]->snscrape) (1.26.15)\n",
            "Requirement already satisfied: certifi>=2017.4.17 in /usr/local/lib/python3.9/dist-packages (from requests[socks]->snscrape) (2022.12.7)\n",
            "Requirement already satisfied: idna<4,>=2.5 in /usr/local/lib/python3.9/dist-packages (from requests[socks]->snscrape) (3.4)\n",
            "Requirement already satisfied: PySocks!=1.5.7,>=1.5.6 in /usr/local/lib/python3.9/dist-packages (from requests[socks]->snscrape) (1.7.1)\n",
            "Looking in indexes: https://pypi.org/simple, https://us-python.pkg.dev/colab-wheels/public/simple/\n",
            "Requirement already satisfied: pandas in /usr/local/lib/python3.9/dist-packages (1.5.3)\n",
            "Requirement already satisfied: numpy>=1.20.3 in /usr/local/lib/python3.9/dist-packages (from pandas) (1.22.4)\n",
            "Requirement already satisfied: pytz>=2020.1 in /usr/local/lib/python3.9/dist-packages (from pandas) (2022.7.1)\n",
            "Requirement already satisfied: python-dateutil>=2.8.1 in /usr/local/lib/python3.9/dist-packages (from pandas) (2.8.2)\n",
            "Requirement already satisfied: six>=1.5 in /usr/local/lib/python3.9/dist-packages (from python-dateutil>=2.8.1->pandas) (1.16.0)\n"
          ]
        }
      ]
    },
    {
      "cell_type": "code",
      "execution_count": 2,
      "metadata": {
        "id": "7liimw3fubeS"
      },
      "outputs": [],
      "source": [
        "import snscrape.modules.twitter as sntwitter\n",
        "import pandas as pd\n",
        "import datetime"
      ]
    },
    {
      "cell_type": "code",
      "source": [
        "location = 'Los Angeles'\n",
        "timeframe_start = datetime.datetime(2020, 1, 1)\n",
        "timeframe_end = datetime.datetime(2020, 1, 3)\n",
        "num_per_day = 500"
      ],
      "metadata": {
        "id": "lPeCn03YvVM8"
      },
      "execution_count": 3,
      "outputs": []
    },
    {
      "cell_type": "code",
      "execution_count": 4,
      "metadata": {
        "id": "DkTQld8DubeV"
      },
      "outputs": [],
      "source": [
        "def scrape_one_day(location, date, num_per_day):\n",
        "  tweets_list = []\n",
        "  # scape from Twitter\n",
        "  next_date = date + datetime.timedelta(days=1)\n",
        "  for i, tweet in enumerate(sntwitter.TwitterSearchScraper('near:\"' + location \n",
        "                                                          + '\" within:10km since:' \n",
        "                                                          + date.strftime(\"%Y-%m-%d\") \n",
        "                                                          + ' until:' \n",
        "                                                          + next_date.strftime(\"%Y-%m-%d\")\n",
        "                                                          + ' lang:en min_faves:10 OR min_retweets:10').get_items()):\n",
        "      if i > num_per_day:\n",
        "          break\n",
        "      tweets_list.append([date.strftime(\"%Y-%m-%d\"), tweet.rawContent])\n",
        "  return tweets_list "
      ]
    },
    {
      "cell_type": "code",
      "source": [
        "def scrape_time_frame(location, start_date, end_date, num_per_day):\n",
        "  curr_date = start_date\n",
        "  tweets_all = []\n",
        "  while curr_date <= end_date:\n",
        "    print(curr_date.strftime(\"%Y-%m-%d\"))\n",
        "    tweets_list = scrape_one_day(location, curr_date, num_per_day)\n",
        "    tweets_all = tweets_all + tweets_list\n",
        "    curr_date += datetime.timedelta(days=1)\n",
        "  # convert the list into csv file and store the csv file\n",
        "  df = pd.DataFrame(tweets_all, columns =['date', 'content']) \n",
        "  df.to_csv('data/' + location + '.csv')"
      ],
      "metadata": {
        "id": "JzklMRcS5zvn"
      },
      "execution_count": 5,
      "outputs": []
    },
    {
      "cell_type": "code",
      "source": [
        "scrape_time_frame(location, timeframe_start, timeframe_end, num_per_day)"
      ],
      "metadata": {
        "colab": {
          "base_uri": "https://localhost:8080/"
        },
        "id": "R_6FJORw6v1M",
        "outputId": "7e06181e-5b44-49a5-e149-59cd362ec8e6"
      },
      "execution_count": 6,
      "outputs": [
        {
          "output_type": "stream",
          "name": "stdout",
          "text": [
            "2020-01-01\n",
            "2020-01-02\n",
            "2020-01-03\n"
          ]
        }
      ]
    }
  ],
  "metadata": {
    "kernelspec": {
      "display_name": "base",
      "language": "python",
      "name": "python3"
    },
    "language_info": {
      "codemirror_mode": {
        "name": "ipython",
        "version": 3
      },
      "file_extension": ".py",
      "mimetype": "text/x-python",
      "name": "python",
      "nbconvert_exporter": "python",
      "pygments_lexer": "ipython3",
      "version": "3.9.6"
    },
    "orig_nbformat": 4,
    "colab": {
      "provenance": []
    }
  },
  "nbformat": 4,
  "nbformat_minor": 0
}