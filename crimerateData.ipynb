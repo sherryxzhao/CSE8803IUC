{
 "cells": [
  {
   "cell_type": "code",
   "execution_count": 1,
   "id": "5a70428b",
   "metadata": {},
   "outputs": [],
   "source": [
    "import pandas as pd"
   ]
  },
  {
   "cell_type": "markdown",
   "id": "2154f748",
   "metadata": {},
   "source": [
    "NYC"
   ]
  },
  {
   "cell_type": "code",
   "execution_count": 2,
   "id": "66f12ad7",
   "metadata": {},
   "outputs": [
    {
     "name": "stderr",
     "output_type": "stream",
     "text": [
      "/Users/jessica/opt/anaconda3/envs/myenv/lib/python3.7/site-packages/IPython/core/interactiveshell.py:3258: DtypeWarning: Columns (18,20) have mixed types.Specify dtype option on import or set low_memory=False.\n",
      "  interactivity=interactivity, compiler=compiler, result=result)\n"
     ]
    }
   ],
   "source": [
    "# read CSV file\n",
    "results = pd.read_csv('NYPD_Complaint_Data_Historic.csv')"
   ]
  },
  {
   "cell_type": "code",
   "execution_count": 3,
   "id": "1d593690",
   "metadata": {},
   "outputs": [
    {
     "name": "stdout",
     "output_type": "stream",
     "text": [
      "Number of lines present:- 7825499\n"
     ]
    }
   ],
   "source": [
    "# count no. of lines\n",
    "print(\"Number of lines present:-\", \n",
    "      len(results))"
   ]
  },
  {
   "cell_type": "code",
   "execution_count": 11,
   "id": "0069c5d6",
   "metadata": {},
   "outputs": [
    {
     "name": "stdout",
     "output_type": "stream",
     "text": [
      "(7808160, 35)\n"
     ]
    }
   ],
   "source": [
    "print(results.shape)"
   ]
  },
  {
   "cell_type": "code",
   "execution_count": 7,
   "id": "0f2d767b",
   "metadata": {},
   "outputs": [],
   "source": [
    "results.dropna(subset=['Latitude', 'Longitude'], inplace=True)\n",
    "\n",
    "# remove any rows with invalid latitude or longitude values\n",
    "NYC_crime = results[(results['Latitude'] >= -90) & (results['Latitude'] <= 90) &\n",
    "                        (results['Longitude'] >= -180) & (results['Longitude'] <= 180)]\n",
    "\n",
    "# save cleaned data to a new CSV file\n",
    "NYC_crime.to_csv('cleaned_NYC_crime_data.csv', index=False)"
   ]
  },
  {
   "cell_type": "code",
   "execution_count": 12,
   "id": "0fc83720",
   "metadata": {},
   "outputs": [
    {
     "name": "stdout",
     "output_type": "stream",
     "text": [
      "(7808160, 35)\n"
     ]
    }
   ],
   "source": [
    "print(NYC_crime.shape)"
   ]
  },
  {
   "cell_type": "markdown",
   "id": "f038eda4",
   "metadata": {},
   "source": [
    "Denver"
   ]
  },
  {
   "cell_type": "code",
   "execution_count": 26,
   "id": "3de42977",
   "metadata": {},
   "outputs": [],
   "source": [
    "r10 = pd.read_csv('crime2010.csv')"
   ]
  },
  {
   "cell_type": "code",
   "execution_count": 16,
   "id": "4b50b6bf",
   "metadata": {},
   "outputs": [
    {
     "name": "stdout",
     "output_type": "stream",
     "text": [
      "Number of lines present:- 38693\n"
     ]
    }
   ],
   "source": [
    "# count no. of lines\n",
    "print(\"Number of lines present:-\", \n",
    "      len(r10))"
   ]
  },
  {
   "cell_type": "code",
   "execution_count": 28,
   "id": "ecbe2a95",
   "metadata": {},
   "outputs": [],
   "source": [
    "#print(r10.head())"
   ]
  },
  {
   "cell_type": "code",
   "execution_count": 29,
   "id": "38b4d8b0",
   "metadata": {},
   "outputs": [],
   "source": [
    "r10.dropna(subset=['GEO_LON', 'GEO_LAT'], inplace=True)\n",
    "\n",
    "# remove any rows with invalid latitude or longitude values\n",
    "Denver_crime10 = r10[(r10['GEO_LAT'] >= -90) & (r10['GEO_LAT'] <= 90) &\n",
    "                        (r10['GEO_LON'] >= -180) & (r10['GEO_LON'] <= 180)]\n",
    "\n",
    "# save cleaned data to a new CSV file\n",
    "Denver_crime10.to_csv('cleaned_Denver2010_crime_data.csv', index=False)"
   ]
  },
  {
   "cell_type": "code",
   "execution_count": 30,
   "id": "c26818eb",
   "metadata": {},
   "outputs": [
    {
     "name": "stdout",
     "output_type": "stream",
     "text": [
      "(37983, 20)\n"
     ]
    }
   ],
   "source": [
    "print(Denver_crime10.shape)"
   ]
  },
  {
   "cell_type": "code",
   "execution_count": 31,
   "id": "f110feea",
   "metadata": {},
   "outputs": [],
   "source": [
    "r11 = pd.read_csv('crime2011.csv')"
   ]
  },
  {
   "cell_type": "code",
   "execution_count": 32,
   "id": "b3c64c69",
   "metadata": {},
   "outputs": [
    {
     "name": "stdout",
     "output_type": "stream",
     "text": [
      "Number of lines present:- 40501\n"
     ]
    }
   ],
   "source": [
    "print(\"Number of lines present:-\", \n",
    "      len(r11))"
   ]
  },
  {
   "cell_type": "code",
   "execution_count": 33,
   "id": "91648b4a",
   "metadata": {},
   "outputs": [],
   "source": [
    "r11.dropna(subset=['GEO_LON', 'GEO_LAT'], inplace=True)\n",
    "\n",
    "# remove any rows with invalid latitude or longitude values\n",
    "Denver_crime11 = r11[(r11['GEO_LAT'] >= -90) & (r11['GEO_LAT'] <= 90) &\n",
    "                        (r11['GEO_LON'] >= -180) & (r11['GEO_LON'] <= 180)]\n",
    "\n",
    "# save cleaned data to a new CSV file\n",
    "Denver_crime11.to_csv('cleaned_Denver2011_crime_data.csv', index=False)"
   ]
  },
  {
   "cell_type": "code",
   "execution_count": 34,
   "id": "99a02e4f",
   "metadata": {},
   "outputs": [
    {
     "name": "stdout",
     "output_type": "stream",
     "text": [
      "(39756, 20)\n"
     ]
    }
   ],
   "source": [
    "print(Denver_crime11.shape)"
   ]
  },
  {
   "cell_type": "code",
   "execution_count": 35,
   "id": "05936895",
   "metadata": {},
   "outputs": [],
   "source": [
    "r12 = pd.read_csv('crime2012.csv')"
   ]
  },
  {
   "cell_type": "code",
   "execution_count": 36,
   "id": "80102fb7",
   "metadata": {},
   "outputs": [
    {
     "name": "stdout",
     "output_type": "stream",
     "text": [
      "Number of lines present:- 42311\n"
     ]
    }
   ],
   "source": [
    "print(\"Number of lines present:-\", \n",
    "      len(r12))"
   ]
  },
  {
   "cell_type": "code",
   "execution_count": 37,
   "id": "2fdfc234",
   "metadata": {},
   "outputs": [],
   "source": [
    "r12.dropna(subset=['GEO_LON', 'GEO_LAT'], inplace=True)\n",
    "\n",
    "# remove any rows with invalid latitude or longitude values\n",
    "Denver_crime12 = r12[(r12['GEO_LAT'] >= -90) & (r12['GEO_LAT'] <= 90) &\n",
    "                        (r12['GEO_LON'] >= -180) & (r12['GEO_LON'] <= 180)]\n",
    "\n",
    "# save cleaned data to a new CSV file\n",
    "Denver_crime12.to_csv('cleaned_Denver2012_crime_data.csv', index=False)"
   ]
  },
  {
   "cell_type": "code",
   "execution_count": 38,
   "id": "676b7d43",
   "metadata": {},
   "outputs": [
    {
     "name": "stdout",
     "output_type": "stream",
     "text": [
      "(41556, 20)\n"
     ]
    }
   ],
   "source": [
    "print(Denver_crime12.shape)"
   ]
  },
  {
   "cell_type": "code",
   "execution_count": 40,
   "id": "a217c1bb",
   "metadata": {},
   "outputs": [],
   "source": [
    "r13 = pd.read_csv('crime2013.csv')"
   ]
  },
  {
   "cell_type": "code",
   "execution_count": 41,
   "id": "6134a7b4",
   "metadata": {},
   "outputs": [
    {
     "name": "stdout",
     "output_type": "stream",
     "text": [
      "Number of lines present:- 53438\n"
     ]
    }
   ],
   "source": [
    "print(\"Number of lines present:-\", \n",
    "      len(r13))"
   ]
  },
  {
   "cell_type": "code",
   "execution_count": 42,
   "id": "c70f3590",
   "metadata": {},
   "outputs": [],
   "source": [
    "r13.dropna(subset=['GEO_LON', 'GEO_LAT'], inplace=True)\n",
    "\n",
    "# remove any rows with invalid latitude or longitude values\n",
    "Denver_crime13 = r13[(r13['GEO_LAT'] >= -90) & (r13['GEO_LAT'] <= 90) &\n",
    "                        (r13['GEO_LON'] >= -180) & (r13['GEO_LON'] <= 180)]\n",
    "\n",
    "# save cleaned data to a new CSV file\n",
    "Denver_crime13.to_csv('cleaned_Denver2013_crime_data.csv', index=False)"
   ]
  },
  {
   "cell_type": "code",
   "execution_count": 44,
   "id": "5d37f35e",
   "metadata": {},
   "outputs": [
    {
     "name": "stdout",
     "output_type": "stream",
     "text": [
      "(52727, 20)\n"
     ]
    }
   ],
   "source": [
    "print(Denver_crime13.shape)"
   ]
  },
  {
   "cell_type": "code",
   "execution_count": 45,
   "id": "7e33689e",
   "metadata": {},
   "outputs": [],
   "source": [
    "r14 = pd.read_csv('crime2014.csv')"
   ]
  },
  {
   "cell_type": "code",
   "execution_count": 46,
   "id": "2a5d4fdf",
   "metadata": {},
   "outputs": [
    {
     "name": "stdout",
     "output_type": "stream",
     "text": [
      "Number of lines present:- 58850\n"
     ]
    }
   ],
   "source": [
    "print(\"Number of lines present:-\", \n",
    "      len(r14))"
   ]
  },
  {
   "cell_type": "code",
   "execution_count": 47,
   "id": "fc0604e1",
   "metadata": {},
   "outputs": [],
   "source": [
    "r14.dropna(subset=['GEO_LON', 'GEO_LAT'], inplace=True)\n",
    "\n",
    "# remove any rows with invalid latitude or longitude values\n",
    "Denver_crime14 = r14[(r14['GEO_LAT'] >= -90) & (r14['GEO_LAT'] <= 90) &\n",
    "                        (r14['GEO_LON'] >= -180) & (r14['GEO_LON'] <= 180)]\n",
    "\n",
    "# save cleaned data to a new CSV file\n",
    "Denver_crime14.to_csv('cleaned_Denver2014_crime_data.csv', index=False)"
   ]
  },
  {
   "cell_type": "code",
   "execution_count": 48,
   "id": "563063b7",
   "metadata": {},
   "outputs": [
    {
     "name": "stdout",
     "output_type": "stream",
     "text": [
      "(58120, 20)\n"
     ]
    }
   ],
   "source": [
    "print(Denver_crime14.shape)"
   ]
  },
  {
   "cell_type": "code",
   "execution_count": 49,
   "id": "415fb7f3",
   "metadata": {},
   "outputs": [],
   "source": [
    "r15 = pd.read_csv('crime2015.csv')"
   ]
  },
  {
   "cell_type": "code",
   "execution_count": 50,
   "id": "602733a3",
   "metadata": {},
   "outputs": [
    {
     "name": "stdout",
     "output_type": "stream",
     "text": [
      "Number of lines present:- 61385\n"
     ]
    }
   ],
   "source": [
    "print(\"Number of lines present:-\", \n",
    "      len(r15))"
   ]
  },
  {
   "cell_type": "code",
   "execution_count": 51,
   "id": "ffb1a06d",
   "metadata": {},
   "outputs": [],
   "source": [
    "r15.dropna(subset=['GEO_LON', 'GEO_LAT'], inplace=True)\n",
    "\n",
    "# remove any rows with invalid latitude or longitude values\n",
    "Denver_crime15 = r15[(r15['GEO_LAT'] >= -90) & (r15['GEO_LAT'] <= 90) &\n",
    "                        (r15['GEO_LON'] >= -180) & (r15['GEO_LON'] <= 180)]\n",
    "\n",
    "# save cleaned data to a new CSV file\n",
    "Denver_crime15.to_csv('cleaned_Denver2015_crime_data.csv', index=False)"
   ]
  },
  {
   "cell_type": "code",
   "execution_count": 52,
   "id": "6721c45c",
   "metadata": {},
   "outputs": [
    {
     "name": "stdout",
     "output_type": "stream",
     "text": [
      "(60524, 20)\n"
     ]
    }
   ],
   "source": [
    "print(Denver_crime15.shape)"
   ]
  },
  {
   "cell_type": "code",
   "execution_count": 53,
   "id": "9e436cf5",
   "metadata": {},
   "outputs": [],
   "source": [
    "r16 = pd.read_csv('crime2016.csv')"
   ]
  },
  {
   "cell_type": "code",
   "execution_count": 54,
   "id": "0e1471aa",
   "metadata": {},
   "outputs": [
    {
     "name": "stdout",
     "output_type": "stream",
     "text": [
      "Number of lines present:- 62698\n"
     ]
    }
   ],
   "source": [
    "print(\"Number of lines present:-\", \n",
    "      len(r16))"
   ]
  },
  {
   "cell_type": "code",
   "execution_count": 55,
   "id": "cecd587c",
   "metadata": {},
   "outputs": [],
   "source": [
    "r16.dropna(subset=['GEO_LON', 'GEO_LAT'], inplace=True)\n",
    "\n",
    "# remove any rows with invalid latitude or longitude values\n",
    "Denver_crime16 = r16[(r16['GEO_LAT'] >= -90) & (r16['GEO_LAT'] <= 90) &\n",
    "                        (r16['GEO_LON'] >= -180) & (r16['GEO_LON'] <= 180)]\n",
    "\n",
    "# save cleaned data to a new CSV file\n",
    "Denver_crime16.to_csv('cleaned_Denver2016_crime_data.csv', index=False)"
   ]
  },
  {
   "cell_type": "code",
   "execution_count": 56,
   "id": "8483c0cb",
   "metadata": {},
   "outputs": [
    {
     "name": "stdout",
     "output_type": "stream",
     "text": [
      "(61812, 20)\n"
     ]
    }
   ],
   "source": [
    "print(Denver_crime16.shape)"
   ]
  },
  {
   "cell_type": "code",
   "execution_count": 57,
   "id": "909f41d4",
   "metadata": {},
   "outputs": [],
   "source": [
    "r17 = pd.read_csv('crime2017.csv')"
   ]
  },
  {
   "cell_type": "code",
   "execution_count": 58,
   "id": "c8dec0ac",
   "metadata": {},
   "outputs": [
    {
     "name": "stdout",
     "output_type": "stream",
     "text": [
      "Number of lines present:- 63777\n"
     ]
    }
   ],
   "source": [
    "print(\"Number of lines present:-\", \n",
    "      len(r17))"
   ]
  },
  {
   "cell_type": "code",
   "execution_count": 59,
   "id": "35a0c6b2",
   "metadata": {},
   "outputs": [],
   "source": [
    "r17.dropna(subset=['GEO_LON', 'GEO_LAT'], inplace=True)\n",
    "\n",
    "# remove any rows with invalid latitude or longitude values\n",
    "Denver_crime17 = r17[(r17['GEO_LAT'] >= -90) & (r17['GEO_LAT'] <= 90) &\n",
    "                        (r17['GEO_LON'] >= -180) & (r17['GEO_LON'] <= 180)]\n",
    "\n",
    "# save cleaned data to a new CSV file\n",
    "Denver_crime17.to_csv('cleaned_Denver2017_crime_data.csv', index=False)"
   ]
  },
  {
   "cell_type": "code",
   "execution_count": 60,
   "id": "fab0d5f6",
   "metadata": {},
   "outputs": [
    {
     "name": "stdout",
     "output_type": "stream",
     "text": [
      "(62688, 20)\n"
     ]
    }
   ],
   "source": [
    "print(Denver_crime17.shape)"
   ]
  },
  {
   "cell_type": "code",
   "execution_count": 61,
   "id": "8be5428c",
   "metadata": {},
   "outputs": [],
   "source": [
    "r18 = pd.read_csv('crime2018.csv')"
   ]
  },
  {
   "cell_type": "code",
   "execution_count": 62,
   "id": "78489ecf",
   "metadata": {},
   "outputs": [
    {
     "name": "stdout",
     "output_type": "stream",
     "text": [
      "Number of lines present:- 64051\n"
     ]
    }
   ],
   "source": [
    "print(\"Number of lines present:-\", \n",
    "      len(r18))"
   ]
  },
  {
   "cell_type": "code",
   "execution_count": 63,
   "id": "7fbf3b3b",
   "metadata": {},
   "outputs": [],
   "source": [
    "r18.dropna(subset=['GEO_LON', 'GEO_LAT'], inplace=True)\n",
    "\n",
    "# remove any rows with invalid latitude or longitude values\n",
    "Denver_crime18 = r18[(r18['GEO_LAT'] >= -90) & (r18['GEO_LAT'] <= 90) &\n",
    "                        (r18['GEO_LON'] >= -180) & (r18['GEO_LON'] <= 180)]\n",
    "\n",
    "# save cleaned data to a new CSV file\n",
    "Denver_crime18.to_csv('cleaned_Denver2018_crime_data.csv', index=False)"
   ]
  },
  {
   "cell_type": "code",
   "execution_count": 64,
   "id": "f326e005",
   "metadata": {},
   "outputs": [
    {
     "name": "stdout",
     "output_type": "stream",
     "text": [
      "(62975, 20)\n"
     ]
    }
   ],
   "source": [
    "print(Denver_crime18.shape)"
   ]
  },
  {
   "cell_type": "code",
   "execution_count": 65,
   "id": "a1c2a65a",
   "metadata": {},
   "outputs": [],
   "source": [
    "r19 = pd.read_csv('crime2019.csv')"
   ]
  },
  {
   "cell_type": "code",
   "execution_count": 66,
   "id": "2734e611",
   "metadata": {},
   "outputs": [
    {
     "name": "stdout",
     "output_type": "stream",
     "text": [
      "Number of lines present:- 62943\n"
     ]
    }
   ],
   "source": [
    "print(\"Number of lines present:-\", \n",
    "      len(r19))"
   ]
  },
  {
   "cell_type": "code",
   "execution_count": 67,
   "id": "ca681935",
   "metadata": {},
   "outputs": [],
   "source": [
    "r19.dropna(subset=['GEO_LON', 'GEO_LAT'], inplace=True)\n",
    "\n",
    "# remove any rows with invalid latitude or longitude values\n",
    "Denver_crime19 = r19[(r19['GEO_LAT'] >= -90) & (r19['GEO_LAT'] <= 90) &\n",
    "                        (r19['GEO_LON'] >= -180) & (r19['GEO_LON'] <= 180)]\n",
    "\n",
    "# save cleaned data to a new CSV file\n",
    "Denver_crime19.to_csv('cleaned_Denver2019_crime_data.csv', index=False)"
   ]
  },
  {
   "cell_type": "code",
   "execution_count": 68,
   "id": "d7f15a9e",
   "metadata": {},
   "outputs": [
    {
     "name": "stdout",
     "output_type": "stream",
     "text": [
      "(61899, 20)\n"
     ]
    }
   ],
   "source": [
    "print(Denver_crime19.shape)"
   ]
  },
  {
   "cell_type": "code",
   "execution_count": 69,
   "id": "cae99c77",
   "metadata": {},
   "outputs": [],
   "source": [
    "r20 = pd.read_csv('crime2020.csv')"
   ]
  },
  {
   "cell_type": "code",
   "execution_count": 70,
   "id": "512aa603",
   "metadata": {},
   "outputs": [
    {
     "name": "stdout",
     "output_type": "stream",
     "text": [
      "Number of lines present:- 62943\n"
     ]
    }
   ],
   "source": [
    "print(\"Number of lines present:-\", \n",
    "      len(r20))"
   ]
  },
  {
   "cell_type": "code",
   "execution_count": 71,
   "id": "5e7376d6",
   "metadata": {},
   "outputs": [],
   "source": [
    "r20.dropna(subset=['GEO_LON', 'GEO_LAT'], inplace=True)\n",
    "\n",
    "# remove any rows with invalid latitude or longitude values\n",
    "Denver_crime20 = r20[(r20['GEO_LAT'] >= -90) & (r20['GEO_LAT'] <= 90) &\n",
    "                        (r20['GEO_LON'] >= -180) & (r20['GEO_LON'] <= 180)]\n",
    "\n",
    "# save cleaned data to a new CSV file\n",
    "Denver_crime20.to_csv('cleaned_Denver2020_crime_data.csv', index=False)"
   ]
  },
  {
   "cell_type": "code",
   "execution_count": 72,
   "id": "c950bbc2",
   "metadata": {},
   "outputs": [
    {
     "name": "stdout",
     "output_type": "stream",
     "text": [
      "(61899, 20)\n"
     ]
    }
   ],
   "source": [
    "print(Denver_crime20.shape)"
   ]
  },
  {
   "cell_type": "code",
   "execution_count": 73,
   "id": "235e261a",
   "metadata": {},
   "outputs": [
    {
     "name": "stdout",
     "output_type": "stream",
     "text": [
      "Number of lines present:- 601939\n"
     ]
    }
   ],
   "source": [
    "print(\"Number of lines present:-\", \n",
    "      len(r10)+len(r11)+len(r12)+len(r13)+len(r14)+len(r15)+len(r16)+len(r17)+len(r18)+len(r19)+len(r20))"
   ]
  },
  {
   "cell_type": "markdown",
   "id": "4d25826a",
   "metadata": {},
   "source": [
    "Boston"
   ]
  },
  {
   "cell_type": "code",
   "execution_count": 75,
   "id": "1941310e",
   "metadata": {},
   "outputs": [],
   "source": [
    "b15 = pd.read_csv('BostonCrimeData2015.csv')"
   ]
  },
  {
   "cell_type": "code",
   "execution_count": 76,
   "id": "8f2ac39d",
   "metadata": {},
   "outputs": [
    {
     "name": "stdout",
     "output_type": "stream",
     "text": [
      "Number of lines present:- 53597\n"
     ]
    }
   ],
   "source": [
    "print(\"Number of lines present:-\", \n",
    "      len(b15))"
   ]
  },
  {
   "cell_type": "code",
   "execution_count": 82,
   "id": "6be0d4a7",
   "metadata": {},
   "outputs": [],
   "source": [
    "#print(b15.head())"
   ]
  },
  {
   "cell_type": "code",
   "execution_count": 80,
   "id": "277900ab",
   "metadata": {},
   "outputs": [],
   "source": [
    "b15.dropna(subset=['Lat', 'Long'], inplace=True)\n",
    "\n",
    "# remove any rows with invalid latitude or longitude values\n",
    "boston_crime15 = b15[(b15['Lat'] >= -90) & (b15['Lat'] <= 90) &\n",
    "                        (b15['Long'] >= -180) & (b15['Long'] <= 180)]\n",
    "\n",
    "# save cleaned data to a new CSV file\n",
    "boston_crime15.to_csv('cleaned_Boston2015_crime_data.csv', index=False)"
   ]
  },
  {
   "cell_type": "code",
   "execution_count": 93,
   "id": "21f6ec56",
   "metadata": {},
   "outputs": [
    {
     "name": "stdout",
     "output_type": "stream",
     "text": [
      "(51425, 17)\n"
     ]
    }
   ],
   "source": [
    "print(boston_crime15.shape)"
   ]
  },
  {
   "cell_type": "code",
   "execution_count": 94,
   "id": "a6a49702",
   "metadata": {},
   "outputs": [],
   "source": [
    "b16 = pd.read_csv('BostonCrimeData2016.csv')"
   ]
  },
  {
   "cell_type": "code",
   "execution_count": 95,
   "id": "9c865b14",
   "metadata": {},
   "outputs": [
    {
     "name": "stdout",
     "output_type": "stream",
     "text": [
      "Number of lines present:- 99430\n"
     ]
    }
   ],
   "source": [
    "print(\"Number of lines present:-\", len(b16))"
   ]
  },
  {
   "cell_type": "code",
   "execution_count": 96,
   "id": "078b4f9a",
   "metadata": {},
   "outputs": [],
   "source": [
    "b16.dropna(subset=['Lat', 'Long'], inplace=True)\n",
    "\n",
    "# remove any rows with invalid latitude or longitude values\n",
    "boston_crime16 = b16[(b16['Lat'] >= -90) & (b16['Lat'] <= 90) &\n",
    "                        (b16['Long'] >= -180) & (b16['Long'] <= 180)]\n",
    "\n",
    "# save cleaned data to a new CSV file\n",
    "boston_crime16.to_csv('cleaned_Boston2016_crime_data.csv', index=False)"
   ]
  },
  {
   "cell_type": "code",
   "execution_count": 97,
   "id": "bceb6481",
   "metadata": {},
   "outputs": [
    {
     "name": "stdout",
     "output_type": "stream",
     "text": [
      "(92243, 17)\n"
     ]
    }
   ],
   "source": [
    "print(boston_crime16.shape)"
   ]
  },
  {
   "cell_type": "code",
   "execution_count": 98,
   "id": "f4939171",
   "metadata": {},
   "outputs": [],
   "source": [
    "b17 = pd.read_csv('BostonCrimeData2017.csv')"
   ]
  },
  {
   "cell_type": "code",
   "execution_count": 99,
   "id": "2ade7a05",
   "metadata": {},
   "outputs": [
    {
     "name": "stdout",
     "output_type": "stream",
     "text": [
      "Number of lines present:- 101338\n"
     ]
    }
   ],
   "source": [
    "print(\"Number of lines present:-\", len(b17))"
   ]
  },
  {
   "cell_type": "code",
   "execution_count": 100,
   "id": "37619d86",
   "metadata": {},
   "outputs": [],
   "source": [
    "b17.dropna(subset=['Lat', 'Long'], inplace=True)\n",
    "\n",
    "# remove any rows with invalid latitude or longitude values\n",
    "boston_crime17 = b17[(b17['Lat'] >= -90) & (b17['Lat'] <= 90) &\n",
    "                        (b17['Long'] >= -180) & (b17['Long'] <= 180)]\n",
    "\n",
    "# save cleaned data to a new CSV file\n",
    "boston_crime17.to_csv('cleaned_Boston2017_crime_data.csv', index=False)"
   ]
  },
  {
   "cell_type": "code",
   "execution_count": 101,
   "id": "4df88228",
   "metadata": {},
   "outputs": [
    {
     "name": "stdout",
     "output_type": "stream",
     "text": [
      "(94083, 17)\n"
     ]
    }
   ],
   "source": [
    "print(boston_crime17.shape)"
   ]
  },
  {
   "cell_type": "code",
   "execution_count": 102,
   "id": "29671660",
   "metadata": {},
   "outputs": [],
   "source": [
    "b18 = pd.read_csv('BostonCrimeData2018.csv')"
   ]
  },
  {
   "cell_type": "code",
   "execution_count": 103,
   "id": "905e375f",
   "metadata": {},
   "outputs": [
    {
     "name": "stdout",
     "output_type": "stream",
     "text": [
      "Number of lines present:- 98888\n"
     ]
    }
   ],
   "source": [
    "print(\"Number of lines present:-\", len(b18))"
   ]
  },
  {
   "cell_type": "code",
   "execution_count": 104,
   "id": "5c0c5081",
   "metadata": {},
   "outputs": [],
   "source": [
    "b18.dropna(subset=['Lat', 'Long'], inplace=True)\n",
    "\n",
    "# remove any rows with invalid latitude or longitude values\n",
    "boston_crime18 = b18[(b18['Lat'] >= -90) & (b18['Lat'] <= 90) &\n",
    "                        (b18['Long'] >= -180) & (b18['Long'] <= 180)]\n",
    "\n",
    "# save cleaned data to a new CSV file\n",
    "boston_crime18.to_csv('cleaned_Boston2018_crime_data.csv', index=False)"
   ]
  },
  {
   "cell_type": "code",
   "execution_count": 105,
   "id": "92f8f04d",
   "metadata": {},
   "outputs": [
    {
     "name": "stdout",
     "output_type": "stream",
     "text": [
      "(92133, 17)\n"
     ]
    }
   ],
   "source": [
    "print(boston_crime18.shape)"
   ]
  },
  {
   "cell_type": "code",
   "execution_count": 106,
   "id": "81fd9350",
   "metadata": {},
   "outputs": [
    {
     "name": "stderr",
     "output_type": "stream",
     "text": [
      "/Users/jessica/opt/anaconda3/envs/myenv/lib/python3.7/site-packages/IPython/core/interactiveshell.py:3258: DtypeWarning: Columns (0) have mixed types.Specify dtype option on import or set low_memory=False.\n",
      "  interactivity=interactivity, compiler=compiler, result=result)\n"
     ]
    }
   ],
   "source": [
    "b19 = pd.read_csv('BostonCrimeData2019.csv')"
   ]
  },
  {
   "cell_type": "code",
   "execution_count": 107,
   "id": "ae48ba7d",
   "metadata": {},
   "outputs": [
    {
     "name": "stdout",
     "output_type": "stream",
     "text": [
      "Number of lines present:- 87184\n"
     ]
    }
   ],
   "source": [
    "print(\"Number of lines present:-\", len(b19))"
   ]
  },
  {
   "cell_type": "code",
   "execution_count": 108,
   "id": "b9660891",
   "metadata": {},
   "outputs": [],
   "source": [
    "b19.dropna(subset=['Lat', 'Long'], inplace=True)\n",
    "\n",
    "# remove any rows with invalid latitude or longitude values\n",
    "boston_crime19 = b19[(b19['Lat'] >= -90) & (b19['Lat'] <= 90) &\n",
    "                        (b19['Long'] >= -180) & (b19['Long'] <= 180)]\n",
    "\n",
    "# save cleaned data to a new CSV file\n",
    "boston_crime19.to_csv('cleaned_Boston2019_crime_data.csv', index=False)"
   ]
  },
  {
   "cell_type": "code",
   "execution_count": 109,
   "id": "af9956fa",
   "metadata": {},
   "outputs": [
    {
     "name": "stdout",
     "output_type": "stream",
     "text": [
      "(83700, 17)\n"
     ]
    }
   ],
   "source": [
    "print(boston_crime19.shape)"
   ]
  },
  {
   "cell_type": "code",
   "execution_count": 110,
   "id": "1ca28659",
   "metadata": {},
   "outputs": [
    {
     "name": "stderr",
     "output_type": "stream",
     "text": [
      "/Users/jessica/opt/anaconda3/envs/myenv/lib/python3.7/site-packages/IPython/core/interactiveshell.py:3258: DtypeWarning: Columns (0) have mixed types.Specify dtype option on import or set low_memory=False.\n",
      "  interactivity=interactivity, compiler=compiler, result=result)\n"
     ]
    }
   ],
   "source": [
    "b20 = pd.read_csv('BostonCrimeData2020.csv')"
   ]
  },
  {
   "cell_type": "code",
   "execution_count": 111,
   "id": "cc850d63",
   "metadata": {},
   "outputs": [
    {
     "name": "stdout",
     "output_type": "stream",
     "text": [
      "Number of lines present:- 70894\n"
     ]
    }
   ],
   "source": [
    "print(\"Number of lines present:-\", len(b20))"
   ]
  },
  {
   "cell_type": "code",
   "execution_count": 112,
   "id": "5c4ccac7",
   "metadata": {},
   "outputs": [],
   "source": [
    "b20.dropna(subset=['Lat', 'Long'], inplace=True)\n",
    "\n",
    "# remove any rows with invalid latitude or longitude values\n",
    "boston_crime20 = b20[(b20['Lat'] >= -90) & (b20['Lat'] <= 90) &\n",
    "                        (b20['Long'] >= -180) & (b20['Long'] <= 180)]\n",
    "\n",
    "# save cleaned data to a new CSV file\n",
    "boston_crime20.to_csv('cleaned_Boston2020_crime_data.csv', index=False)"
   ]
  },
  {
   "cell_type": "code",
   "execution_count": 113,
   "id": "665ee1fe",
   "metadata": {},
   "outputs": [
    {
     "name": "stdout",
     "output_type": "stream",
     "text": [
      "(69147, 17)\n"
     ]
    }
   ],
   "source": [
    "print(boston_crime20.shape)"
   ]
  },
  {
   "cell_type": "code",
   "execution_count": 114,
   "id": "303283af",
   "metadata": {},
   "outputs": [
    {
     "name": "stderr",
     "output_type": "stream",
     "text": [
      "/Users/jessica/opt/anaconda3/envs/myenv/lib/python3.7/site-packages/IPython/core/interactiveshell.py:3258: DtypeWarning: Columns (0) have mixed types.Specify dtype option on import or set low_memory=False.\n",
      "  interactivity=interactivity, compiler=compiler, result=result)\n"
     ]
    }
   ],
   "source": [
    "b21 = pd.read_csv('BostonCrimeData2021.csv')"
   ]
  },
  {
   "cell_type": "code",
   "execution_count": 115,
   "id": "eda3e699",
   "metadata": {},
   "outputs": [
    {
     "name": "stdout",
     "output_type": "stream",
     "text": [
      "Number of lines present:- 71721\n"
     ]
    }
   ],
   "source": [
    "print(\"Number of lines present:-\", len(b21))"
   ]
  },
  {
   "cell_type": "code",
   "execution_count": 116,
   "id": "f32f7167",
   "metadata": {},
   "outputs": [],
   "source": [
    "b21.dropna(subset=['Lat', 'Long'], inplace=True)\n",
    "\n",
    "# remove any rows with invalid latitude or longitude values\n",
    "boston_crime21 = b21[(b21['Lat'] >= -90) & (b21['Lat'] <= 90) &\n",
    "                        (b21['Long'] >= -180) & (b21['Long'] <= 180)]\n",
    "\n",
    "# save cleaned data to a new CSV file\n",
    "boston_crime21.to_csv('cleaned_Boston2021_crime_data.csv', index=False)"
   ]
  },
  {
   "cell_type": "code",
   "execution_count": 117,
   "id": "d68c8030",
   "metadata": {},
   "outputs": [
    {
     "name": "stdout",
     "output_type": "stream",
     "text": [
      "(68831, 17)\n"
     ]
    }
   ],
   "source": [
    "print(boston_crime21.shape)"
   ]
  },
  {
   "cell_type": "code",
   "execution_count": 3,
   "id": "2f9593b7",
   "metadata": {},
   "outputs": [
    {
     "name": "stderr",
     "output_type": "stream",
     "text": [
      "/Users/jessica/opt/anaconda3/envs/myenv/lib/python3.7/site-packages/IPython/core/interactiveshell.py:3258: DtypeWarning: Columns (0) have mixed types.Specify dtype option on import or set low_memory=False.\n",
      "  interactivity=interactivity, compiler=compiler, result=result)\n"
     ]
    }
   ],
   "source": [
    "b22 = pd.read_csv('BostonCrimeData2022.csv')"
   ]
  },
  {
   "cell_type": "code",
   "execution_count": 4,
   "id": "57be4b3e",
   "metadata": {},
   "outputs": [
    {
     "name": "stdout",
     "output_type": "stream",
     "text": [
      "Number of lines present:- 73852\n"
     ]
    }
   ],
   "source": [
    "print(\"Number of lines present:-\", len(b22))"
   ]
  },
  {
   "cell_type": "code",
   "execution_count": 5,
   "id": "d071de32",
   "metadata": {},
   "outputs": [],
   "source": [
    "b22.dropna(subset=['Lat', 'Long'], inplace=True)\n",
    "\n",
    "# remove any rows with invalid latitude or longitude values\n",
    "boston_crime22 = b22[(b22['Lat'] >= -90) & (b22['Lat'] <= 90) &\n",
    "                        (b22['Long'] >= -180) & (b22['Long'] <= 180)]\n",
    "\n",
    "# save cleaned data to a new CSV file\n",
    "boston_crime22.to_csv('cleaned_Boston2022_crime_data.csv', index=False)"
   ]
  },
  {
   "cell_type": "code",
   "execution_count": 6,
   "id": "016e5d75",
   "metadata": {},
   "outputs": [
    {
     "name": "stdout",
     "output_type": "stream",
     "text": [
      "(70044, 17)\n"
     ]
    }
   ],
   "source": [
    "print(boston_crime22.shape)"
   ]
  },
  {
   "cell_type": "markdown",
   "id": "10bc8dee",
   "metadata": {},
   "source": [
    "Baton Rouge"
   ]
  },
  {
   "cell_type": "code",
   "execution_count": 130,
   "id": "c4ff9b72",
   "metadata": {},
   "outputs": [],
   "source": [
    "new_baton = pd.read_csv('Baton_Rouge_Crime_Incidents.csv')"
   ]
  },
  {
   "cell_type": "code",
   "execution_count": 131,
   "id": "cc068c68",
   "metadata": {},
   "outputs": [],
   "source": [
    "#print(old_baton.head())"
   ]
  },
  {
   "cell_type": "code",
   "execution_count": 132,
   "id": "afb2a396",
   "metadata": {},
   "outputs": [
    {
     "name": "stdout",
     "output_type": "stream",
     "text": [
      "Number of lines present:- 81009\n"
     ]
    }
   ],
   "source": [
    "print(\"Number of lines present:-\", len(new_baton))"
   ]
  },
  {
   "cell_type": "code",
   "execution_count": 136,
   "id": "3bb6b600",
   "metadata": {},
   "outputs": [],
   "source": [
    "new_baton.dropna(subset=['LATITUDE', 'LONGITUDE'], inplace=True)\n",
    "\n",
    "# remove any rows with invalid latitude or longitude values\n",
    "new_baton = new_baton[(new_baton['LATITUDE'] >= -90) & (new_baton['LATITUDE'] <= 90) &\n",
    "                        (new_baton['LONGITUDE'] >= -180) & (new_baton['LONGITUDE'] <= 180)]\n",
    "\n",
    "# save cleaned data to a new CSV file\n",
    "new_baton.to_csv('cleaned_batonrouge_new_crime_data.csv', index=False)"
   ]
  },
  {
   "cell_type": "code",
   "execution_count": 137,
   "id": "49c9f1c8",
   "metadata": {},
   "outputs": [
    {
     "name": "stdout",
     "output_type": "stream",
     "text": [
      "(70234, 27)\n"
     ]
    }
   ],
   "source": [
    "print(new_baton.shape)"
   ]
  },
  {
   "cell_type": "code",
   "execution_count": 138,
   "id": "dbfb486a",
   "metadata": {},
   "outputs": [
    {
     "name": "stderr",
     "output_type": "stream",
     "text": [
      "/Users/jessica/opt/anaconda3/envs/myenv/lib/python3.7/site-packages/IPython/core/interactiveshell.py:3258: DtypeWarning: Columns (2) have mixed types.Specify dtype option on import or set low_memory=False.\n",
      "  interactivity=interactivity, compiler=compiler, result=result)\n"
     ]
    }
   ],
   "source": [
    "old_baton = pd.read_csv('Legacy_Baton_Rouge_Crime_Incidents.csv')"
   ]
  },
  {
   "cell_type": "code",
   "execution_count": 139,
   "id": "fac03ec5",
   "metadata": {},
   "outputs": [
    {
     "ename": "KeyError",
     "evalue": "['LATITUDE', 'LONGITUDE']",
     "output_type": "error",
     "traceback": [
      "\u001b[0;31m---------------------------------------------------------------------------\u001b[0m",
      "\u001b[0;31mKeyError\u001b[0m                                  Traceback (most recent call last)",
      "\u001b[0;32m/var/folders/42/7_y2kwvd0b1gcxr4gsqybkkc0000gn/T/ipykernel_4837/3594316178.py\u001b[0m in \u001b[0;36m<module>\u001b[0;34m\u001b[0m\n\u001b[0;32m----> 1\u001b[0;31m \u001b[0mold_baton\u001b[0m\u001b[0;34m.\u001b[0m\u001b[0mdropna\u001b[0m\u001b[0;34m(\u001b[0m\u001b[0msubset\u001b[0m\u001b[0;34m=\u001b[0m\u001b[0;34m[\u001b[0m\u001b[0;34m'LATITUDE'\u001b[0m\u001b[0;34m,\u001b[0m \u001b[0;34m'LONGITUDE'\u001b[0m\u001b[0;34m]\u001b[0m\u001b[0;34m,\u001b[0m \u001b[0minplace\u001b[0m\u001b[0;34m=\u001b[0m\u001b[0;32mTrue\u001b[0m\u001b[0;34m)\u001b[0m\u001b[0;34m\u001b[0m\u001b[0;34m\u001b[0m\u001b[0m\n\u001b[0m\u001b[1;32m      2\u001b[0m \u001b[0;34m\u001b[0m\u001b[0m\n\u001b[1;32m      3\u001b[0m \u001b[0;31m# remove any rows with invalid latitude or longitude values\u001b[0m\u001b[0;34m\u001b[0m\u001b[0;34m\u001b[0m\u001b[0;34m\u001b[0m\u001b[0m\n\u001b[1;32m      4\u001b[0m old_baton = old_baton[(old_baton['LATITUDE'] >= -90) & (old_baton['LATITUDE'] <= 90) &\n\u001b[1;32m      5\u001b[0m                         (old_baton['LONGITUDE'] >= -180) & (old_baton['LONGITUDE'] <= 180)]\n",
      "\u001b[0;32m~/opt/anaconda3/envs/myenv/lib/python3.7/site-packages/pandas/core/frame.py\u001b[0m in \u001b[0;36mdropna\u001b[0;34m(self, axis, how, thresh, subset, inplace)\u001b[0m\n\u001b[1;32m   4992\u001b[0m             \u001b[0mcheck\u001b[0m \u001b[0;34m=\u001b[0m \u001b[0mindices\u001b[0m \u001b[0;34m==\u001b[0m \u001b[0;34m-\u001b[0m\u001b[0;36m1\u001b[0m\u001b[0;34m\u001b[0m\u001b[0;34m\u001b[0m\u001b[0m\n\u001b[1;32m   4993\u001b[0m             \u001b[0;32mif\u001b[0m \u001b[0mcheck\u001b[0m\u001b[0;34m.\u001b[0m\u001b[0many\u001b[0m\u001b[0;34m(\u001b[0m\u001b[0;34m)\u001b[0m\u001b[0;34m:\u001b[0m\u001b[0;34m\u001b[0m\u001b[0;34m\u001b[0m\u001b[0m\n\u001b[0;32m-> 4994\u001b[0;31m                 \u001b[0;32mraise\u001b[0m \u001b[0mKeyError\u001b[0m\u001b[0;34m(\u001b[0m\u001b[0mlist\u001b[0m\u001b[0;34m(\u001b[0m\u001b[0mnp\u001b[0m\u001b[0;34m.\u001b[0m\u001b[0mcompress\u001b[0m\u001b[0;34m(\u001b[0m\u001b[0mcheck\u001b[0m\u001b[0;34m,\u001b[0m \u001b[0msubset\u001b[0m\u001b[0;34m)\u001b[0m\u001b[0;34m)\u001b[0m\u001b[0;34m)\u001b[0m\u001b[0;34m\u001b[0m\u001b[0;34m\u001b[0m\u001b[0m\n\u001b[0m\u001b[1;32m   4995\u001b[0m             \u001b[0magg_obj\u001b[0m \u001b[0;34m=\u001b[0m \u001b[0mself\u001b[0m\u001b[0;34m.\u001b[0m\u001b[0mtake\u001b[0m\u001b[0;34m(\u001b[0m\u001b[0mindices\u001b[0m\u001b[0;34m,\u001b[0m \u001b[0maxis\u001b[0m\u001b[0;34m=\u001b[0m\u001b[0magg_axis\u001b[0m\u001b[0;34m)\u001b[0m\u001b[0;34m\u001b[0m\u001b[0;34m\u001b[0m\u001b[0m\n\u001b[1;32m   4996\u001b[0m \u001b[0;34m\u001b[0m\u001b[0m\n",
      "\u001b[0;31mKeyError\u001b[0m: ['LATITUDE', 'LONGITUDE']"
     ]
    }
   ],
   "source": [
    "old_baton.dropna(subset=['LATITUDE', 'LONGITUDE'], inplace=True)\n",
    "\n",
    "# remove any rows with invalid latitude or longitude values\n",
    "old_baton = old_baton[(old_baton['LATITUDE'] >= -90) & (old_baton['LATITUDE'] <= 90) &\n",
    "                        (old_baton['LONGITUDE'] >= -180) & (old_baton['LONGITUDE'] <= 180)]\n",
    "\n",
    "# save cleaned data to a new CSV file\n",
    "old_baton.to_csv('cleaned_batonrouge_old_crime_data.csv', index=False)"
   ]
  },
  {
   "cell_type": "code",
   "execution_count": 140,
   "id": "feb7a256",
   "metadata": {},
   "outputs": [
    {
     "name": "stdout",
     "output_type": "stream",
     "text": [
      "   FILE NUMBER OFFENSE DATE OFFENSE TIME           CRIME  COMMITTED  \\\n",
      "0          NaN   11/01/2019         1844        JUVENILE  COMMITTED   \n",
      "1          NaN   01/01/2013         0000  SEXUAL ASSAULT  COMMITTED   \n",
      "2          NaN   04/02/2020         1100        JUVENILE  COMMITTED   \n",
      "3          NaN   02/13/2014         1015  SEXUAL ASSAULT  COMMITTED   \n",
      "4          NaN   03/24/2019         0100  SEXUAL ASSAULT  COMMITTED   \n",
      "\n",
      "     OFFENSE           OFFENSE DESCRIPTION FULL ADDRESS  ADDRESS NUMBER  \\\n",
      "0  14:93.2.1               CHILD DESERTION          NaN             NaN   \n",
      "1    14:42/O               RAPE/AGG (ORAL)          NaN             NaN   \n",
      "2    14:93.4  EXPLOITATION OF THE INFIRMED          NaN             NaN   \n",
      "3  14:42.1/V       RAPE/FORCIBLE (VAGINAL)          NaN             NaN   \n",
      "4    14:43.1                   BATT/SEXUAL          NaN             NaN   \n",
      "\n",
      "  STREET DIRECTION  ... CITY STATE ZIP CODE DISTRICT  ZONE SUBZONE  \\\n",
      "0              NaN  ...  NaN   NaN  70808.0        2     B       2   \n",
      "1              NaN  ...  NaN   NaN      NaN        3     D       2   \n",
      "2              NaN  ...  NaN   NaN  70810.0        2     E       1   \n",
      "3              NaN  ...  NaN   NaN  70811.0        4     D       1   \n",
      "4              NaN  ...  NaN   NaN  70802.0        2     D       1   \n",
      "\n",
      "  COMPLETE DISTRICT COUNCIL DISTRICT CRIME PREVENTION DISTRICT  GEOLOCATION  \n",
      "0               2B2             12.0                      NONE          NaN  \n",
      "1               3D2              NaN                       NaN          NaN  \n",
      "2               2E1             12.0                      NONE          NaN  \n",
      "3               4D1              5.0                      NONE          NaN  \n",
      "4               2D1             10.0                      NONE          NaN  \n",
      "\n",
      "[5 rows x 22 columns]\n"
     ]
    }
   ],
   "source": [
    "print(old_baton.head())"
   ]
  },
  {
   "cell_type": "markdown",
   "id": "32e983ce",
   "metadata": {},
   "source": [
    "LA"
   ]
  },
  {
   "cell_type": "code",
   "execution_count": 96,
   "id": "b6f9338d",
   "metadata": {},
   "outputs": [],
   "source": [
    "la = pd.read_csv('LACrimeData.csv')"
   ]
  },
  {
   "cell_type": "code",
   "execution_count": 97,
   "id": "acea4324",
   "metadata": {},
   "outputs": [
    {
     "name": "stdout",
     "output_type": "stream",
     "text": [
      "0         34.0141\n",
      "1         34.0459\n",
      "2         34.0448\n",
      "3         34.1685\n",
      "4         34.2198\n",
      "           ...   \n",
      "686431    34.0412\n",
      "686432    34.1214\n",
      "686433    34.0611\n",
      "686434    34.2466\n",
      "686435    34.1951\n",
      "Name: LAT, Length: 686436, dtype: float64\n"
     ]
    }
   ],
   "source": [
    "print(la['LAT'])"
   ]
  },
  {
   "cell_type": "code",
   "execution_count": 98,
   "id": "858bcf5c",
   "metadata": {},
   "outputs": [],
   "source": [
    "la.dropna(subset=['LAT', 'LON'], inplace=True)\n",
    "\n",
    "# remove any rows with invalid latitude or longitude values\n",
    "la = la[(la['LAT'] >= -90) & (la['LAT'] <= 90) &\n",
    "                        (la['LON'] >= -180) & (la['LON'] <= 180)]\n",
    "\n",
    "# save cleaned data to a new CSV file\n",
    "la.to_csv('cleaned_LA_crime_data.csv', index=False)"
   ]
  },
  {
   "cell_type": "code",
   "execution_count": 99,
   "id": "199040ee",
   "metadata": {},
   "outputs": [
    {
     "name": "stdout",
     "output_type": "stream",
     "text": [
      "(686436, 28)\n"
     ]
    }
   ],
   "source": [
    "print(la.shape)"
   ]
  },
  {
   "cell_type": "code",
   "execution_count": 10,
   "id": "bf227a54",
   "metadata": {},
   "outputs": [
    {
     "name": "stdout",
     "output_type": "stream",
     "text": [
      "01/01/2020 12:00:00 AM\n"
     ]
    }
   ],
   "source": [
    "print(min(la['DATE OCC']))"
   ]
  },
  {
   "cell_type": "code",
   "execution_count": 11,
   "id": "114364ef",
   "metadata": {},
   "outputs": [
    {
     "name": "stdout",
     "output_type": "stream",
     "text": [
      "12/31/2022 12:00:00 AM\n"
     ]
    }
   ],
   "source": [
    "print(max(la['DATE OCC']))"
   ]
  },
  {
   "cell_type": "markdown",
   "id": "b2909f05",
   "metadata": {},
   "source": [
    "Chicago"
   ]
  },
  {
   "cell_type": "code",
   "execution_count": 155,
   "id": "0bd35b83",
   "metadata": {},
   "outputs": [],
   "source": [
    "chi = pd.read_csv('ChicagoCrimeData.csv')"
   ]
  },
  {
   "cell_type": "code",
   "execution_count": 157,
   "id": "c0f14595",
   "metadata": {},
   "outputs": [
    {
     "name": "stdout",
     "output_type": "stream",
     "text": [
      "         ID Case Number                    Date                  Block  IUCR  \\\n",
      "0  10224738    HY411648  09/05/2015 01:30:00 PM        043XX S WOOD ST  0486   \n",
      "1  10224739    HY411615  09/04/2015 11:30:00 AM    008XX N CENTRAL AVE  0870   \n",
      "2  11646166    JC213529  09/01/2018 12:01:00 AM  082XX S INGLESIDE AVE  0810   \n",
      "3  10224740    HY411595  09/05/2015 12:45:00 PM      035XX W BARRY AVE  2023   \n",
      "4  10224741    HY411610  09/05/2015 01:00:00 PM    0000X N LARAMIE AVE  0560   \n",
      "\n",
      "  Primary Type              Description Location Description  Arrest  \\\n",
      "0      BATTERY  DOMESTIC BATTERY SIMPLE            RESIDENCE   False   \n",
      "1        THEFT           POCKET-PICKING              CTA BUS   False   \n",
      "2        THEFT                OVER $500            RESIDENCE   False   \n",
      "3    NARCOTICS    POSS: HEROIN(BRN/TAN)             SIDEWALK    True   \n",
      "4      ASSAULT                   SIMPLE            APARTMENT   False   \n",
      "\n",
      "   Domestic  ...  Ward  Community Area  FBI Code  X Coordinate Y Coordinate  \\\n",
      "0      True  ...  12.0            61.0       08B     1165074.0    1875917.0   \n",
      "1     False  ...  29.0            25.0        06     1138875.0    1904869.0   \n",
      "2      True  ...   8.0            44.0        06           NaN          NaN   \n",
      "3     False  ...  35.0            21.0        18     1152037.0    1920384.0   \n",
      "4      True  ...  28.0            25.0       08A     1141706.0    1900086.0   \n",
      "\n",
      "   Year              Updated On   Latitude  Longitude  \\\n",
      "0  2015  02/10/2018 03:50:01 PM  41.815117 -87.670000   \n",
      "1  2015  02/10/2018 03:50:01 PM  41.895080 -87.765400   \n",
      "2  2018  04/06/2019 04:04:43 PM        NaN        NaN   \n",
      "3  2015  02/10/2018 03:50:01 PM  41.937406 -87.716650   \n",
      "4  2015  02/10/2018 03:50:01 PM  41.881903 -87.755121   \n",
      "\n",
      "                        Location  \n",
      "0  (41.815117282, -87.669999562)  \n",
      "1  (41.895080471, -87.765400451)  \n",
      "2                            NaN  \n",
      "3  (41.937405765, -87.716649687)  \n",
      "4  (41.881903443, -87.755121152)  \n",
      "\n",
      "[5 rows x 22 columns]\n"
     ]
    }
   ],
   "source": [
    "print(chi.head())"
   ]
  },
  {
   "cell_type": "code",
   "execution_count": 158,
   "id": "70485072",
   "metadata": {},
   "outputs": [],
   "source": [
    "chi.dropna(subset=['Latitude', 'Longitude'], inplace=True)\n",
    "\n",
    "# remove any rows with invalid latitude or longitude values\n",
    "chi = chi[(chi['Latitude'] >= -90) & (chi['Latitude'] <= 90) &\n",
    "                        (chi['Longitude'] >= -180) & (chi['Longitude'] <= 180)]\n",
    "\n",
    "# save cleaned data to a new CSV file\n",
    "chi.to_csv('cleaned_Chicago_crime_data.csv', index=False)"
   ]
  },
  {
   "cell_type": "code",
   "execution_count": 159,
   "id": "4b34e355",
   "metadata": {},
   "outputs": [
    {
     "name": "stdout",
     "output_type": "stream",
     "text": [
      "(7674515, 22)\n"
     ]
    }
   ],
   "source": [
    "print(chi.shape)"
   ]
  },
  {
   "cell_type": "markdown",
   "id": "4266f348",
   "metadata": {},
   "source": [
    "Further Data Cleaning/Ground Truth Building"
   ]
  },
  {
   "cell_type": "code",
   "execution_count": 19,
   "id": "4b852352",
   "metadata": {},
   "outputs": [],
   "source": [
    "from datetime import datetime"
   ]
  },
  {
   "cell_type": "code",
   "execution_count": 57,
   "id": "44044b76",
   "metadata": {},
   "outputs": [],
   "source": [
    "crime_types = [\n",
    "    'Aggravated Assault',\n",
    "    'Insurance Fraud',\n",
    "    'Aiding and Abetting / Accessory',\n",
    "    'Kidnapping',\n",
    "    'Arson',\n",
    "    'Manslaughter: Involuntary',\n",
    "    'Battery',\n",
    "    'Manslaughter: Voluntary',\n",
    "    'Attempt',\n",
    "    'Medical Marijuana',\n",
    "    'Bribery',\n",
    "    'MIP: A Minor in Possession',\n",
    "    'Burglary',\n",
    "    'Money Laundering',\n",
    "    'Child Abandonment',\n",
    "    'Murder: First-degree',\n",
    "    'Child Abuse',\n",
    "    'Murder: Second-degree',\n",
    "    'Child Pornography',\n",
    "    'Open Container (of alcohol)',\n",
    "    'Computer Crime',\n",
    "    'Perjury',\n",
    "    'Conspiracy',\n",
    "    'Probation Violation',\n",
    "    'Credit / Debit Card Fraud',\n",
    "    'Prostitution',\n",
    "    'Criminal Contempt of Court',\n",
    "    'Public Intoxication',\n",
    "    'Cyberbullying',\n",
    "    'Pyramid Schemes',\n",
    "    'Disorderly Conduct',\n",
    "    'Racketeering / RICO',\n",
    "    'Disturbing the Peace',\n",
    "    'Rape',\n",
    "    'Domestic Violence',\n",
    "    'Robbery',\n",
    "    'Drug Manufacturing and Cultivation',\n",
    "    'Securities Fraud',\n",
    "    'Drug Possession',\n",
    "    'Sexual Assault',\n",
    "    'Drug Trafficking / Distribution',\n",
    "    'Shoplifting',\n",
    "    'DUI / DWI',\n",
    "    'Solicitation',\n",
    "    'Embezzlement',\n",
    "    'Stalking',\n",
    "    'Extortion',\n",
    "    'Statutory Rape',\n",
    "    'Forgery',\n",
    "    'Tax Evasion / Fraud',\n",
    "    'Fraud',\n",
    "    'Telemarketing Fraud',\n",
    "    'Harassment',\n",
    "    'Theft',\n",
    "    'Hate Crimes',\n",
    "    'Vandalism',\n",
    "    'Homicide',\n",
    "    'White Collar Crimes',\n",
    "    'Identity Theft',\n",
    "    'Wire Fraud',\n",
    "    'Indecent Exposure'\n",
    "]"
   ]
  },
  {
   "cell_type": "code",
   "execution_count": 100,
   "id": "a80cd30c",
   "metadata": {},
   "outputs": [
    {
     "name": "stdout",
     "output_type": "stream",
     "text": [
      "(686436, 28)\n"
     ]
    }
   ],
   "source": [
    "print(la.shape)"
   ]
  },
  {
   "cell_type": "code",
   "execution_count": 109,
   "id": "185d0c74",
   "metadata": {},
   "outputs": [],
   "source": [
    "la_time = la[['DATE OCC', 'Crm Cd Desc']]"
   ]
  },
  {
   "cell_type": "code",
   "execution_count": 112,
   "id": "d638baff",
   "metadata": {},
   "outputs": [
    {
     "name": "stdout",
     "output_type": "stream",
     "text": [
      "<class 'datetime.datetime'>\n"
     ]
    }
   ],
   "source": [
    "print(type(la_time['DATE OCC'][0]))"
   ]
  },
  {
   "cell_type": "code",
   "execution_count": 116,
   "id": "1baae505",
   "metadata": {},
   "outputs": [
    {
     "ename": "KeyError",
     "evalue": "('DATE OCC', 'Crm Cd Desc')",
     "output_type": "error",
     "traceback": [
      "\u001b[0;31m---------------------------------------------------------------------------\u001b[0m",
      "\u001b[0;31mKeyError\u001b[0m                                  Traceback (most recent call last)",
      "\u001b[0;32m~/opt/anaconda3/envs/myenv/lib/python3.7/site-packages/pandas/core/indexes/base.py\u001b[0m in \u001b[0;36mget_loc\u001b[0;34m(self, key, method, tolerance)\u001b[0m\n\u001b[1;32m   2888\u001b[0m             \u001b[0;32mtry\u001b[0m\u001b[0;34m:\u001b[0m\u001b[0;34m\u001b[0m\u001b[0;34m\u001b[0m\u001b[0m\n\u001b[0;32m-> 2889\u001b[0;31m                 \u001b[0;32mreturn\u001b[0m \u001b[0mself\u001b[0m\u001b[0;34m.\u001b[0m\u001b[0m_engine\u001b[0m\u001b[0;34m.\u001b[0m\u001b[0mget_loc\u001b[0m\u001b[0;34m(\u001b[0m\u001b[0mcasted_key\u001b[0m\u001b[0;34m)\u001b[0m\u001b[0;34m\u001b[0m\u001b[0;34m\u001b[0m\u001b[0m\n\u001b[0m\u001b[1;32m   2890\u001b[0m             \u001b[0;32mexcept\u001b[0m \u001b[0mKeyError\u001b[0m \u001b[0;32mas\u001b[0m \u001b[0merr\u001b[0m\u001b[0;34m:\u001b[0m\u001b[0;34m\u001b[0m\u001b[0;34m\u001b[0m\u001b[0m\n",
      "\u001b[0;32mpandas/_libs/index.pyx\u001b[0m in \u001b[0;36mpandas._libs.index.IndexEngine.get_loc\u001b[0;34m()\u001b[0m\n",
      "\u001b[0;32mpandas/_libs/index.pyx\u001b[0m in \u001b[0;36mpandas._libs.index.IndexEngine.get_loc\u001b[0;34m()\u001b[0m\n",
      "\u001b[0;32mpandas/_libs/hashtable_class_helper.pxi\u001b[0m in \u001b[0;36mpandas._libs.hashtable.PyObjectHashTable.get_item\u001b[0;34m()\u001b[0m\n",
      "\u001b[0;32mpandas/_libs/hashtable_class_helper.pxi\u001b[0m in \u001b[0;36mpandas._libs.hashtable.PyObjectHashTable.get_item\u001b[0;34m()\u001b[0m\n",
      "\u001b[0;31mKeyError\u001b[0m: ('DATE OCC', 'Crm Cd Desc')",
      "\nThe above exception was the direct cause of the following exception:\n",
      "\u001b[0;31mKeyError\u001b[0m                                  Traceback (most recent call last)",
      "\u001b[0;32m/var/folders/42/7_y2kwvd0b1gcxr4gsqybkkc0000gn/T/ipykernel_6724/3917765105.py\u001b[0m in \u001b[0;36m<module>\u001b[0;34m\u001b[0m\n\u001b[0;32m----> 1\u001b[0;31m \u001b[0mla_time\u001b[0m \u001b[0;34m=\u001b[0m \u001b[0mla\u001b[0m\u001b[0;34m[\u001b[0m\u001b[0;34m'DATE OCC'\u001b[0m\u001b[0;34m,\u001b[0m \u001b[0;34m'Crm Cd Desc'\u001b[0m\u001b[0;34m]\u001b[0m\u001b[0;34m\u001b[0m\u001b[0;34m\u001b[0m\u001b[0m\n\u001b[0m\u001b[1;32m      2\u001b[0m \u001b[0mdate_format\u001b[0m \u001b[0;34m=\u001b[0m \u001b[0;34m\"%m/%d/%Y %I:%M:%S %p\"\u001b[0m\u001b[0;34m\u001b[0m\u001b[0;34m\u001b[0m\u001b[0m\n\u001b[1;32m      3\u001b[0m \u001b[0;34m\u001b[0m\u001b[0m\n\u001b[1;32m      4\u001b[0m \u001b[0mla_crime_date\u001b[0m \u001b[0;34m=\u001b[0m \u001b[0;34m[\u001b[0m\u001b[0;34m]\u001b[0m\u001b[0;34m\u001b[0m\u001b[0;34m\u001b[0m\u001b[0m\n\u001b[1;32m      5\u001b[0m \u001b[0;32mfor\u001b[0m \u001b[0mi\u001b[0m \u001b[0;32min\u001b[0m \u001b[0mrange\u001b[0m\u001b[0;34m(\u001b[0m\u001b[0mlen\u001b[0m\u001b[0;34m(\u001b[0m\u001b[0mla_time\u001b[0m\u001b[0;34m)\u001b[0m\u001b[0;34m)\u001b[0m\u001b[0;34m:\u001b[0m\u001b[0;34m\u001b[0m\u001b[0;34m\u001b[0m\u001b[0m\n",
      "\u001b[0;32m~/opt/anaconda3/envs/myenv/lib/python3.7/site-packages/pandas/core/frame.py\u001b[0m in \u001b[0;36m__getitem__\u001b[0;34m(self, key)\u001b[0m\n\u001b[1;32m   2897\u001b[0m             \u001b[0;32mif\u001b[0m \u001b[0mself\u001b[0m\u001b[0;34m.\u001b[0m\u001b[0mcolumns\u001b[0m\u001b[0;34m.\u001b[0m\u001b[0mnlevels\u001b[0m \u001b[0;34m>\u001b[0m \u001b[0;36m1\u001b[0m\u001b[0;34m:\u001b[0m\u001b[0;34m\u001b[0m\u001b[0;34m\u001b[0m\u001b[0m\n\u001b[1;32m   2898\u001b[0m                 \u001b[0;32mreturn\u001b[0m \u001b[0mself\u001b[0m\u001b[0;34m.\u001b[0m\u001b[0m_getitem_multilevel\u001b[0m\u001b[0;34m(\u001b[0m\u001b[0mkey\u001b[0m\u001b[0;34m)\u001b[0m\u001b[0;34m\u001b[0m\u001b[0;34m\u001b[0m\u001b[0m\n\u001b[0;32m-> 2899\u001b[0;31m             \u001b[0mindexer\u001b[0m \u001b[0;34m=\u001b[0m \u001b[0mself\u001b[0m\u001b[0;34m.\u001b[0m\u001b[0mcolumns\u001b[0m\u001b[0;34m.\u001b[0m\u001b[0mget_loc\u001b[0m\u001b[0;34m(\u001b[0m\u001b[0mkey\u001b[0m\u001b[0;34m)\u001b[0m\u001b[0;34m\u001b[0m\u001b[0;34m\u001b[0m\u001b[0m\n\u001b[0m\u001b[1;32m   2900\u001b[0m             \u001b[0;32mif\u001b[0m \u001b[0mis_integer\u001b[0m\u001b[0;34m(\u001b[0m\u001b[0mindexer\u001b[0m\u001b[0;34m)\u001b[0m\u001b[0;34m:\u001b[0m\u001b[0;34m\u001b[0m\u001b[0;34m\u001b[0m\u001b[0m\n\u001b[1;32m   2901\u001b[0m                 \u001b[0mindexer\u001b[0m \u001b[0;34m=\u001b[0m \u001b[0;34m[\u001b[0m\u001b[0mindexer\u001b[0m\u001b[0;34m]\u001b[0m\u001b[0;34m\u001b[0m\u001b[0;34m\u001b[0m\u001b[0m\n",
      "\u001b[0;32m~/opt/anaconda3/envs/myenv/lib/python3.7/site-packages/pandas/core/indexes/base.py\u001b[0m in \u001b[0;36mget_loc\u001b[0;34m(self, key, method, tolerance)\u001b[0m\n\u001b[1;32m   2889\u001b[0m                 \u001b[0;32mreturn\u001b[0m \u001b[0mself\u001b[0m\u001b[0;34m.\u001b[0m\u001b[0m_engine\u001b[0m\u001b[0;34m.\u001b[0m\u001b[0mget_loc\u001b[0m\u001b[0;34m(\u001b[0m\u001b[0mcasted_key\u001b[0m\u001b[0;34m)\u001b[0m\u001b[0;34m\u001b[0m\u001b[0;34m\u001b[0m\u001b[0m\n\u001b[1;32m   2890\u001b[0m             \u001b[0;32mexcept\u001b[0m \u001b[0mKeyError\u001b[0m \u001b[0;32mas\u001b[0m \u001b[0merr\u001b[0m\u001b[0;34m:\u001b[0m\u001b[0;34m\u001b[0m\u001b[0;34m\u001b[0m\u001b[0m\n\u001b[0;32m-> 2891\u001b[0;31m                 \u001b[0;32mraise\u001b[0m \u001b[0mKeyError\u001b[0m\u001b[0;34m(\u001b[0m\u001b[0mkey\u001b[0m\u001b[0;34m)\u001b[0m \u001b[0;32mfrom\u001b[0m \u001b[0merr\u001b[0m\u001b[0;34m\u001b[0m\u001b[0;34m\u001b[0m\u001b[0m\n\u001b[0m\u001b[1;32m   2892\u001b[0m \u001b[0;34m\u001b[0m\u001b[0m\n\u001b[1;32m   2893\u001b[0m         \u001b[0;32mif\u001b[0m \u001b[0mtolerance\u001b[0m \u001b[0;32mis\u001b[0m \u001b[0;32mnot\u001b[0m \u001b[0;32mNone\u001b[0m\u001b[0;34m:\u001b[0m\u001b[0;34m\u001b[0m\u001b[0;34m\u001b[0m\u001b[0m\n",
      "\u001b[0;31mKeyError\u001b[0m: ('DATE OCC', 'Crm Cd Desc')"
     ]
    }
   ],
   "source": [
    "la_time = la['DATE OCC', 'Crm Cd Desc']\n",
    "date_format = \"%m/%d/%Y %I:%M:%S %p\"\n",
    "\n",
    "la_crime_date = []\n",
    "for i in range(len(la_time)):\n",
    "    la_time[i] = datetime.strptime(la_time[i], date_format)\n",
    "print(len(la_time))"
   ]
  },
  {
   "cell_type": "code",
   "execution_count": 107,
   "id": "df7c0a11",
   "metadata": {},
   "outputs": [
    {
     "name": "stdout",
     "output_type": "stream",
     "text": [
      "686436\n"
     ]
    }
   ],
   "source": [
    "print(len(la_time))"
   ]
  },
  {
   "cell_type": "code",
   "execution_count": 61,
   "id": "bb9db952",
   "metadata": {},
   "outputs": [
    {
     "name": "stdout",
     "output_type": "stream",
     "text": [
      "Occurrence count for each day in the year of 2022:\n",
      "2022-01-01: 897\n",
      "2022-01-02: 610\n",
      "2022-01-03: 658\n",
      "2022-01-04: 562\n",
      "2022-01-05: 590\n",
      "2022-01-06: 560\n",
      "2022-01-07: 625\n",
      "2022-01-08: 499\n",
      "2022-01-09: 499\n",
      "2022-01-10: 585\n",
      "2022-01-11: 493\n",
      "2022-01-12: 581\n",
      "2022-01-13: 542\n",
      "2022-01-14: 600\n",
      "2022-01-15: 687\n",
      "2022-01-16: 556\n",
      "2022-01-17: 563\n",
      "2022-01-18: 535\n",
      "2022-01-19: 610\n",
      "2022-01-20: 618\n",
      "2022-01-21: 636\n",
      "2022-01-22: 608\n",
      "2022-01-23: 635\n",
      "2022-01-24: 552\n",
      "2022-01-25: 526\n",
      "2022-01-26: 562\n",
      "2022-01-27: 522\n",
      "2022-01-28: 657\n",
      "2022-01-29: 607\n",
      "2022-01-30: 584\n",
      "2022-01-31: 576\n",
      "2022-02-01: 936\n",
      "2022-02-02: 812\n",
      "2022-02-03: 726\n",
      "2022-02-04: 617\n",
      "2022-02-05: 643\n",
      "2022-02-06: 597\n",
      "2022-02-07: 615\n",
      "2022-02-08: 564\n",
      "2022-02-09: 592\n",
      "2022-02-10: 616\n",
      "2022-02-11: 654\n",
      "2022-02-12: 640\n",
      "2022-02-13: 702\n",
      "2022-02-14: 622\n",
      "2022-02-15: 574\n",
      "2022-02-16: 588\n",
      "2022-02-17: 584\n",
      "2022-02-18: 695\n",
      "2022-02-19: 579\n",
      "2022-02-20: 605\n",
      "2022-02-21: 561\n",
      "2022-02-22: 578\n",
      "2022-02-23: 553\n",
      "2022-02-24: 505\n",
      "2022-02-25: 622\n",
      "2022-02-26: 579\n",
      "2022-02-27: 636\n",
      "2022-02-28: 618\n",
      "2022-03-01: 936\n",
      "2022-03-02: 810\n",
      "2022-03-03: 740\n",
      "2022-03-04: 647\n",
      "2022-03-05: 617\n",
      "2022-03-06: 571\n",
      "2022-03-07: 606\n",
      "2022-03-08: 618\n",
      "2022-03-09: 560\n",
      "2022-03-10: 611\n",
      "2022-03-11: 679\n",
      "2022-03-12: 623\n",
      "2022-03-13: 545\n",
      "2022-03-14: 562\n",
      "2022-03-15: 624\n",
      "2022-03-16: 629\n",
      "2022-03-17: 605\n",
      "2022-03-18: 682\n",
      "2022-03-19: 625\n",
      "2022-03-20: 652\n",
      "2022-03-21: 657\n",
      "2022-03-22: 607\n",
      "2022-03-23: 647\n",
      "2022-03-24: 609\n",
      "2022-03-25: 680\n",
      "2022-03-26: 629\n",
      "2022-03-27: 552\n",
      "2022-03-28: 560\n",
      "2022-03-29: 548\n",
      "2022-03-30: 615\n",
      "2022-03-31: 569\n",
      "2022-04-01: 999\n",
      "2022-04-02: 871\n",
      "2022-04-03: 820\n",
      "2022-04-04: 690\n",
      "2022-04-05: 629\n",
      "2022-04-06: 636\n",
      "2022-04-07: 680\n",
      "2022-04-08: 761\n",
      "2022-04-09: 629\n",
      "2022-04-10: 706\n",
      "2022-04-11: 603\n",
      "2022-04-12: 546\n",
      "2022-04-13: 597\n",
      "2022-04-14: 619\n",
      "2022-04-15: 655\n",
      "2022-04-16: 637\n",
      "2022-04-17: 581\n",
      "2022-04-18: 621\n",
      "2022-04-19: 537\n",
      "2022-04-20: 570\n",
      "2022-04-21: 607\n",
      "2022-04-22: 626\n",
      "2022-04-23: 638\n",
      "2022-04-24: 658\n",
      "2022-04-25: 646\n",
      "2022-04-26: 624\n",
      "2022-04-27: 643\n",
      "2022-04-28: 587\n",
      "2022-04-29: 617\n",
      "2022-04-30: 617\n",
      "2022-05-01: 968\n",
      "2022-05-02: 965\n",
      "2022-05-03: 833\n",
      "2022-05-04: 677\n",
      "2022-05-05: 664\n",
      "2022-05-06: 701\n",
      "2022-05-07: 658\n",
      "2022-05-08: 602\n",
      "2022-05-09: 614\n",
      "2022-05-10: 620\n",
      "2022-05-11: 584\n",
      "2022-05-12: 626\n",
      "2022-05-13: 678\n",
      "2022-05-14: 648\n",
      "2022-05-15: 632\n",
      "2022-05-16: 620\n",
      "2022-05-17: 606\n",
      "2022-05-18: 649\n",
      "2022-05-19: 604\n",
      "2022-05-20: 644\n",
      "2022-05-21: 611\n",
      "2022-05-22: 555\n",
      "2022-05-23: 592\n",
      "2022-05-24: 585\n",
      "2022-05-25: 620\n",
      "2022-05-26: 598\n",
      "2022-05-27: 667\n",
      "2022-05-28: 684\n",
      "2022-05-29: 649\n",
      "2022-05-30: 577\n",
      "2022-05-31: 580\n",
      "2022-06-01: 1004\n",
      "2022-06-02: 943\n",
      "2022-06-03: 940\n",
      "2022-06-04: 695\n",
      "2022-06-05: 667\n",
      "2022-06-06: 637\n",
      "2022-06-07: 668\n",
      "2022-06-08: 676\n",
      "2022-06-09: 626\n",
      "2022-06-10: 748\n",
      "2022-06-11: 700\n",
      "2022-06-12: 647\n",
      "2022-06-13: 606\n",
      "2022-06-14: 594\n",
      "2022-06-15: 656\n",
      "2022-06-16: 597\n",
      "2022-06-17: 632\n",
      "2022-06-18: 610\n",
      "2022-06-19: 593\n",
      "2022-06-20: 646\n",
      "2022-06-21: 658\n",
      "2022-06-22: 618\n",
      "2022-06-23: 587\n",
      "2022-06-24: 630\n",
      "2022-06-25: 648\n",
      "2022-06-26: 630\n",
      "2022-06-27: 588\n",
      "2022-06-28: 610\n",
      "2022-06-29: 623\n",
      "2022-06-30: 587\n",
      "2022-07-01: 975\n",
      "2022-07-02: 875\n",
      "2022-07-03: 788\n",
      "2022-07-04: 658\n",
      "2022-07-05: 645\n",
      "2022-07-06: 586\n",
      "2022-07-07: 564\n",
      "2022-07-08: 724\n",
      "2022-07-09: 606\n",
      "2022-07-10: 637\n",
      "2022-07-11: 549\n",
      "2022-07-12: 561\n",
      "2022-07-13: 633\n",
      "2022-07-14: 663\n",
      "2022-07-15: 654\n",
      "2022-07-16: 654\n",
      "2022-07-17: 558\n",
      "2022-07-18: 594\n",
      "2022-07-19: 581\n",
      "2022-07-20: 606\n",
      "2022-07-21: 622\n",
      "2022-07-22: 659\n",
      "2022-07-23: 631\n",
      "2022-07-24: 542\n",
      "2022-07-25: 578\n",
      "2022-07-26: 561\n",
      "2022-07-27: 618\n",
      "2022-07-28: 582\n",
      "2022-07-29: 639\n",
      "2022-07-30: 625\n",
      "2022-07-31: 638\n",
      "2022-08-01: 948\n",
      "2022-08-02: 871\n",
      "2022-08-03: 835\n",
      "2022-08-04: 629\n",
      "2022-08-05: 646\n",
      "2022-08-06: 618\n",
      "2022-08-07: 618\n",
      "2022-08-08: 620\n",
      "2022-08-09: 596\n",
      "2022-08-10: 608\n",
      "2022-08-11: 619\n",
      "2022-08-12: 626\n",
      "2022-08-13: 620\n",
      "2022-08-14: 605\n",
      "2022-08-15: 629\n",
      "2022-08-16: 570\n",
      "2022-08-17: 572\n",
      "2022-08-18: 609\n",
      "2022-08-19: 657\n",
      "2022-08-20: 678\n",
      "2022-08-21: 605\n",
      "2022-08-22: 610\n",
      "2022-08-23: 597\n",
      "2022-08-24: 646\n",
      "2022-08-25: 593\n",
      "2022-08-26: 691\n",
      "2022-08-27: 634\n",
      "2022-08-28: 578\n",
      "2022-08-29: 593\n",
      "2022-08-30: 594\n",
      "2022-08-31: 583\n",
      "2022-09-01: 975\n",
      "2022-09-02: 919\n",
      "2022-09-03: 852\n",
      "2022-09-04: 568\n",
      "2022-09-05: 629\n",
      "2022-09-06: 627\n",
      "2022-09-07: 610\n",
      "2022-09-08: 605\n",
      "2022-09-09: 651\n",
      "2022-09-10: 684\n",
      "2022-09-11: 617\n",
      "2022-09-12: 620\n",
      "2022-09-13: 530\n",
      "2022-09-14: 619\n",
      "2022-09-15: 645\n",
      "2022-09-16: 624\n",
      "2022-09-17: 606\n",
      "2022-09-18: 606\n",
      "2022-09-19: 632\n",
      "2022-09-20: 548\n",
      "2022-09-21: 558\n",
      "2022-09-22: 627\n",
      "2022-09-23: 644\n",
      "2022-09-24: 588\n",
      "2022-09-25: 605\n",
      "2022-09-26: 566\n",
      "2022-09-27: 582\n",
      "2022-09-28: 590\n",
      "2022-09-29: 556\n",
      "2022-09-30: 615\n",
      "2022-10-01: 1008\n",
      "2022-10-02: 902\n",
      "2022-10-03: 831\n",
      "2022-10-04: 670\n",
      "2022-10-05: 650\n",
      "2022-10-06: 589\n",
      "2022-10-07: 714\n",
      "2022-10-08: 740\n",
      "2022-10-09: 612\n",
      "2022-10-10: 573\n",
      "2022-10-11: 609\n",
      "2022-10-12: 562\n",
      "2022-10-13: 586\n",
      "2022-10-14: 674\n",
      "2022-10-15: 587\n",
      "2022-10-16: 579\n",
      "2022-10-17: 609\n",
      "2022-10-18: 568\n",
      "2022-10-19: 613\n",
      "2022-10-20: 650\n",
      "2022-10-21: 704\n",
      "2022-10-22: 640\n",
      "2022-10-23: 553\n",
      "2022-10-24: 565\n",
      "2022-10-25: 596\n",
      "2022-10-26: 574\n",
      "2022-10-27: 553\n",
      "2022-10-28: 660\n",
      "2022-10-29: 624\n",
      "2022-10-30: 580\n",
      "2022-10-31: 636\n",
      "2022-11-01: 931\n",
      "2022-11-02: 862\n",
      "2022-11-03: 837\n",
      "2022-11-04: 653\n",
      "2022-11-05: 637\n",
      "2022-11-06: 644\n",
      "2022-11-07: 576\n",
      "2022-11-08: 526\n",
      "2022-11-09: 600\n",
      "2022-11-10: 599\n",
      "2022-11-11: 578\n",
      "2022-11-12: 657\n",
      "2022-11-13: 552\n",
      "2022-11-14: 543\n",
      "2022-11-15: 578\n",
      "2022-11-16: 587\n",
      "2022-11-17: 618\n",
      "2022-11-18: 633\n",
      "2022-11-19: 571\n",
      "2022-11-20: 555\n",
      "2022-11-21: 555\n",
      "2022-11-22: 565\n",
      "2022-11-23: 636\n",
      "2022-11-24: 543\n",
      "2022-11-25: 602\n",
      "2022-11-26: 563\n",
      "2022-11-27: 512\n",
      "2022-11-28: 565\n",
      "2022-11-29: 576\n",
      "2022-11-30: 542\n",
      "2022-12-01: 982\n",
      "2022-12-02: 1114\n",
      "2022-12-03: 911\n",
      "2022-12-04: 544\n",
      "2022-12-05: 635\n",
      "2022-12-06: 605\n",
      "2022-12-07: 609\n",
      "2022-12-08: 612\n",
      "2022-12-09: 642\n",
      "2022-12-10: 671\n",
      "2022-12-11: 582\n",
      "2022-12-12: 608\n",
      "2022-12-13: 576\n",
      "2022-12-14: 580\n",
      "2022-12-15: 602\n",
      "2022-12-16: 659\n",
      "2022-12-17: 588\n",
      "2022-12-18: 544\n",
      "2022-12-19: 561\n",
      "2022-12-20: 568\n",
      "2022-12-21: 578\n",
      "2022-12-22: 611\n",
      "2022-12-23: 708\n",
      "2022-12-24: 573\n",
      "2022-12-25: 488\n",
      "2022-12-26: 508\n",
      "2022-12-27: 473\n",
      "2022-12-28: 611\n",
      "2022-12-29: 566\n",
      "2022-12-30: 667\n",
      "2022-12-31: 557\n",
      "Results exported to 'LA2022_datetime_counts.csv'\n"
     ]
    }
   ],
   "source": [
    "# Count the occurrences of each day in the year of 2022\n",
    "days = 0\n",
    "day_count = {}\n",
    "for dt in la_time:\n",
    "    if dt.year == 2022:\n",
    "        day_str = dt.strftime('%Y-%m-%d')\n",
    "        if day_str not in day_count:\n",
    "            day_count[day_str] = 0\n",
    "        day_count[day_str] += 1\n",
    "        days += 1\n",
    "\n",
    "# Print the results\n",
    "total = 0\n",
    "print(\"Occurrence count for each day in the year of 2022:\")\n",
    "for day, count in sorted(day_count.items()):\n",
    "    total += count\n",
    "    print(f\"{day}: {count}\")\n",
    "    \n",
    "csv_str = 'Date,Occurrences\\n'\n",
    "for day, count in sorted(day_count.items()):\n",
    "    csv_str += f\"{day},{count}\\n\"\n",
    "\n",
    "# Export the results to a CSV file\n",
    "with open('LA2022_datetime_counts.csv', 'w') as file:\n",
    "    file.write(csv_str)\n",
    "\n",
    "print(\"Results exported to 'LA2022_datetime_counts.csv'\")"
   ]
  },
  {
   "cell_type": "code",
   "execution_count": 62,
   "id": "83f8be16",
   "metadata": {},
   "outputs": [
    {
     "name": "stdout",
     "output_type": "stream",
     "text": [
      "0                                  BATTERY - SIMPLE ASSAULT\n",
      "1                                  BATTERY - SIMPLE ASSAULT\n",
      "2                 SEX OFFENDER REGISTRANT OUT OF COMPLIANCE\n",
      "3                  VANDALISM - MISDEAMEANOR ($399 OR UNDER)\n",
      "4         VANDALISM - FELONY ($400 & OVER, ALL CHURCH VA...\n",
      "                                ...                        \n",
      "686431                                    THEFT OF IDENTITY\n",
      "686432                   THEFT PLAIN - PETTY ($950 & UNDER)\n",
      "686433    THEFT-GRAND ($950.01 & OVER)EXCPT,GUNS,FOWL,LI...\n",
      "686434    VANDALISM - FELONY ($400 & OVER, ALL CHURCH VA...\n",
      "686435             VANDALISM - MISDEAMEANOR ($399 OR UNDER)\n",
      "Name: Crm Cd Desc, Length: 686436, dtype: object\n"
     ]
    }
   ],
   "source": [
    "print(la['Crm Cd Desc'])"
   ]
  },
  {
   "cell_type": "code",
   "execution_count": 63,
   "id": "2181257f",
   "metadata": {},
   "outputs": [
    {
     "name": "stdout",
     "output_type": "stream",
     "text": [
      "Aggravated Assault: 49397\n",
      "Insurance Fraud: 5\n",
      "Aiding and Abetting / Accessory: 0\n",
      "Kidnapping: 767\n",
      "Arson: 1907\n",
      "Manslaughter: Involuntary: 0\n",
      "Battery: 59195\n",
      "Manslaughter: Voluntary: 0\n",
      "Attempt: 10917\n",
      "Medical Marijuana: 0\n",
      "Bribery: 7\n",
      "MIP: A Minor in Possession: 0\n",
      "Burglary: 88260\n",
      "Money Laundering: 0\n",
      "Child Abandonment: 19\n",
      "Murder: First-degree: 0\n",
      "Child Abuse: 3008\n",
      "Murder: Second-degree: 0\n",
      "Child Pornography: 184\n",
      "Open Container (of alcohol): 0\n",
      "Computer Crime: 0\n",
      "Perjury: 0\n",
      "Conspiracy: 14\n",
      "Probation Violation: 0\n",
      "Credit / Debit Card Fraud: 0\n",
      "Prostitution: 0\n",
      "Criminal Contempt of Court: 0\n",
      "Public Intoxication: 0\n",
      "Cyberbullying: 0\n",
      "Pyramid Schemes: 0\n",
      "Disorderly Conduct: 0\n",
      "Racketeering / RICO: 0\n",
      "Disturbing the Peace: 1105\n",
      "Rape: 2939\n",
      "Domestic Violence: 0\n",
      "Robbery: 27274\n",
      "Drug Manufacturing and Cultivation: 0\n",
      "Securities Fraud: 0\n",
      "Drug Possession: 0\n",
      "Sexual Assault: 0\n",
      "Drug Trafficking / Distribution: 0\n",
      "Shoplifting: 16284\n",
      "DUI / DWI: 0\n",
      "Solicitation: 0\n",
      "Embezzlement: 2765\n",
      "Stalking: 469\n",
      "Extortion: 1378\n",
      "Statutory Rape: 0\n",
      "Forgery: 2314\n",
      "Tax Evasion / Fraud: 0\n",
      "Fraud: 460\n",
      "Telemarketing Fraud: 0\n",
      "Harassment: 0\n",
      "Theft: 183201\n",
      "Hate Crimes: 0\n",
      "Vandalism: 61660\n",
      "Homicide: 1190\n",
      "White Collar Crimes: 0\n",
      "Identity Theft: 0\n",
      "Wire Fraud: 0\n",
      "Indecent Exposure: 874\n"
     ]
    }
   ],
   "source": [
    "# create a dictionary to store the counts\n",
    "crime_counts = {}\n",
    "\n",
    "# loop through the crime types and count the occurrences\n",
    "for crime in crime_types:\n",
    "    count = la['Crm Cd Desc'].str.contains(crime, case=False).sum()\n",
    "    crime_counts[crime] = count\n",
    "\n",
    "# print the results\n",
    "for crime, count in crime_counts.items():\n",
    "    print(f\"{crime}: {count}\")"
   ]
  },
  {
   "cell_type": "code",
   "execution_count": 91,
   "id": "a4436282",
   "metadata": {},
   "outputs": [],
   "source": [
    "import csv\n",
    "crime_counts_by_date = {}\n",
    "days = 0\n",
    "\n",
    "for crime in crime_types:\n",
    "    for day in range(1, 32):\n",
    "        date = datetime(2022, 1, day).date()\n",
    "        if date not in crime_counts_by_date:\n",
    "            crime_counts_by_date[date] = {}\n",
    "        crime_counts_by_date[date][crime] = 0\n",
    "\n",
    "with open('cleaned_LA_crime_data.csv', newline='') as file:\n",
    "    reader = csv.DictReader(file)\n",
    "    for row in reader:\n",
    "        date_str = row['DATE OCC']\n",
    "        date_obj = datetime.strptime(date_str, \"%m/%d/%Y %I:%M:%S %p\")\n",
    "        if date_obj.year == 2022: # only process rows for 2022\n",
    "            days += 1\n",
    "            crime_desc = row['Crm Cd Desc']\n",
    "            daily_crime_count = {}\n",
    "            for crime in crime_types:\n",
    "                count = 0\n",
    "                if crime.lower() in row['Crm Cd Desc'].lower():\n",
    "                    count += 1\n",
    "                daily_crime_count[crime] = count\n",
    "                #count = row['Crm Cd Desc'].contains(crime, case=False).sum()\n",
    "                #crime_counts_by_date.setdefault(date_obj.date(), {})[crime] = count\n",
    "            crime_counts_by_date[date_obj.date()] = daily_crime_count\n",
    "            total_crimes = sum(daily_crime_count.values())\n",
    "            crime_counts_by_date[date_obj.date()]['total'] = total_crimes\n"
   ]
  },
  {
   "cell_type": "code",
   "execution_count": 90,
   "id": "6f971b72",
   "metadata": {},
   "outputs": [],
   "source": [
    "# write results to csv file\n",
    "with open('la2022_groundtruth.csv', 'w', newline='') as file:\n",
    "    writer = csv.writer(file)\n",
    "    writer.writerow(['Date'] + crime_types + ['Total']) # write header row\n",
    "    for date, counts in crime_counts_by_date.items():\n",
    "        row = [date.strftime('%Y-%m-%d')] + [counts.get(crime, 0) for crime in crime_types] + [counts.get('total', 0)]\n",
    "        writer.writerow(row)"
   ]
  },
  {
   "cell_type": "code",
   "execution_count": 7,
   "id": "8be5f183",
   "metadata": {},
   "outputs": [
    {
     "name": "stdout",
     "output_type": "stream",
     "text": [
      "(70044, 17)\n"
     ]
    }
   ],
   "source": [
    "print(boston_crime22.shape)"
   ]
  },
  {
   "cell_type": "code",
   "execution_count": 42,
   "id": "f6300e15",
   "metadata": {},
   "outputs": [
    {
     "name": "stdout",
     "output_type": "stream",
     "text": [
      "0        2022-01-01 00:00:00\n",
      "1        2022-01-01 00:00:00\n",
      "2        2022-01-01 00:00:00\n",
      "3        2022-01-01 00:00:00\n",
      "4        2022-01-01 00:00:00\n",
      "                ...         \n",
      "73846    2022-12-31 23:11:00\n",
      "73847    2022-12-31 23:30:00\n",
      "73848    2022-12-31 23:37:00\n",
      "73849    2022-12-31 23:45:00\n",
      "73851    2022-12-31 23:50:00\n",
      "Name: OCCURRED_ON_DATE, Length: 70044, dtype: object\n"
     ]
    }
   ],
   "source": [
    "print(boston_crime22['OCCURRED_ON_DATE'])"
   ]
  },
  {
   "cell_type": "code",
   "execution_count": 46,
   "id": "5d3068a8",
   "metadata": {},
   "outputs": [],
   "source": [
    "boston_time = boston_crime22['OCCURRED_ON_DATE']\n",
    "date_format = \"%Y-%m-%d %H:%M:%S\"\n",
    "\n",
    "boston_crime_date = []\n",
    "for date_string in boston_time:\n",
    "    boston_crime_date.append(datetime.strptime(date_string, date_format))\n",
    "boston_crime_date.sort()"
   ]
  },
  {
   "cell_type": "code",
   "execution_count": 48,
   "id": "51c24d86",
   "metadata": {},
   "outputs": [
    {
     "name": "stdout",
     "output_type": "stream",
     "text": [
      "70044\n"
     ]
    }
   ],
   "source": [
    "print(len(boston_crime_date))"
   ]
  },
  {
   "cell_type": "code",
   "execution_count": 49,
   "id": "8b216b23",
   "metadata": {},
   "outputs": [
    {
     "name": "stdout",
     "output_type": "stream",
     "text": [
      "[datetime.datetime(2022, 1, 1, 0, 0), datetime.datetime(2022, 1, 1, 0, 0), datetime.datetime(2022, 1, 1, 0, 0), datetime.datetime(2022, 1, 1, 0, 0), datetime.datetime(2022, 1, 1, 0, 0), datetime.datetime(2022, 1, 1, 0, 0), datetime.datetime(2022, 1, 1, 0, 0), datetime.datetime(2022, 1, 1, 0, 1), datetime.datetime(2022, 1, 1, 0, 1), datetime.datetime(2022, 1, 1, 0, 29)]\n"
     ]
    }
   ],
   "source": [
    "print(boston_crime_date[:10])"
   ]
  },
  {
   "cell_type": "code",
   "execution_count": 50,
   "id": "48ab8233",
   "metadata": {},
   "outputs": [
    {
     "name": "stdout",
     "output_type": "stream",
     "text": [
      "Occurrence count for each day in the year of 2022:\n",
      "2022-01-01: 172\n",
      "2022-01-02: 132\n",
      "2022-01-03: 158\n",
      "2022-01-04: 127\n",
      "2022-01-05: 170\n",
      "2022-01-06: 167\n",
      "2022-01-07: 147\n",
      "2022-01-08: 120\n",
      "2022-01-09: 135\n",
      "2022-01-10: 165\n",
      "2022-01-11: 160\n",
      "2022-01-12: 185\n",
      "2022-01-13: 180\n",
      "2022-01-14: 178\n",
      "2022-01-15: 161\n",
      "2022-01-16: 152\n",
      "2022-01-17: 155\n",
      "2022-01-18: 176\n",
      "2022-01-19: 224\n",
      "2022-01-20: 197\n",
      "2022-01-21: 211\n",
      "2022-01-22: 201\n",
      "2022-01-23: 164\n",
      "2022-01-24: 175\n",
      "2022-01-25: 192\n",
      "2022-01-26: 178\n",
      "2022-01-27: 199\n",
      "2022-01-28: 202\n",
      "2022-01-29: 162\n",
      "2022-01-30: 151\n",
      "2022-01-31: 210\n",
      "2022-02-01: 219\n",
      "2022-02-02: 232\n",
      "2022-02-03: 209\n",
      "2022-02-04: 186\n",
      "2022-02-05: 180\n",
      "2022-02-06: 138\n",
      "2022-02-07: 215\n",
      "2022-02-08: 172\n",
      "2022-02-09: 177\n",
      "2022-02-10: 205\n",
      "2022-02-11: 229\n",
      "2022-02-12: 180\n",
      "2022-02-13: 150\n",
      "2022-02-14: 211\n",
      "2022-02-15: 181\n",
      "2022-02-16: 163\n",
      "2022-02-17: 196\n",
      "2022-02-18: 224\n",
      "2022-02-19: 177\n",
      "2022-02-20: 150\n",
      "2022-02-21: 182\n",
      "2022-02-22: 154\n",
      "2022-02-23: 185\n",
      "2022-02-24: 188\n",
      "2022-02-25: 151\n",
      "2022-02-26: 165\n",
      "2022-02-27: 189\n",
      "2022-02-28: 180\n",
      "2022-03-01: 199\n",
      "2022-03-02: 193\n",
      "2022-03-03: 200\n",
      "2022-03-04: 202\n",
      "2022-03-05: 170\n",
      "2022-03-06: 161\n",
      "2022-03-07: 189\n",
      "2022-03-08: 191\n",
      "2022-03-09: 152\n",
      "2022-03-10: 200\n",
      "2022-03-11: 222\n",
      "2022-03-12: 175\n",
      "2022-03-13: 141\n",
      "2022-03-14: 180\n",
      "2022-03-15: 186\n",
      "2022-03-16: 187\n",
      "2022-03-17: 185\n",
      "2022-03-18: 238\n",
      "2022-03-19: 183\n",
      "2022-03-20: 186\n",
      "2022-03-21: 187\n",
      "2022-03-22: 174\n",
      "2022-03-23: 177\n",
      "2022-03-24: 175\n",
      "2022-03-25: 202\n",
      "2022-03-26: 206\n",
      "2022-03-27: 181\n",
      "2022-03-28: 189\n",
      "2022-03-29: 194\n",
      "2022-03-30: 187\n",
      "2022-03-31: 221\n",
      "2022-04-01: 188\n",
      "2022-04-02: 187\n",
      "2022-04-03: 161\n",
      "2022-04-04: 211\n",
      "2022-04-05: 200\n",
      "2022-04-06: 187\n",
      "2022-04-07: 200\n",
      "2022-04-08: 214\n",
      "2022-04-09: 192\n",
      "2022-04-10: 161\n",
      "2022-04-11: 220\n",
      "2022-04-12: 208\n",
      "2022-04-13: 196\n",
      "2022-04-14: 199\n",
      "2022-04-15: 218\n",
      "2022-04-16: 193\n",
      "2022-04-17: 140\n",
      "2022-04-18: 163\n",
      "2022-04-19: 188\n",
      "2022-04-20: 191\n",
      "2022-04-21: 184\n",
      "2022-04-22: 201\n",
      "2022-04-23: 204\n",
      "2022-04-24: 177\n",
      "2022-04-25: 219\n",
      "2022-04-26: 195\n",
      "2022-04-27: 207\n",
      "2022-04-28: 204\n",
      "2022-04-29: 195\n",
      "2022-04-30: 189\n",
      "2022-05-01: 202\n",
      "2022-05-02: 181\n",
      "2022-05-03: 222\n",
      "2022-05-04: 168\n",
      "2022-05-05: 214\n",
      "2022-05-06: 215\n",
      "2022-05-07: 178\n",
      "2022-05-08: 154\n",
      "2022-05-09: 166\n",
      "2022-05-10: 196\n",
      "2022-05-11: 171\n",
      "2022-05-12: 116\n",
      "2022-05-13: 228\n",
      "2022-05-14: 223\n",
      "2022-05-15: 160\n",
      "2022-05-16: 223\n",
      "2022-05-17: 184\n",
      "2022-05-18: 217\n",
      "2022-05-19: 224\n",
      "2022-05-20: 235\n",
      "2022-05-21: 203\n",
      "2022-05-22: 206\n",
      "2022-05-23: 217\n",
      "2022-05-24: 199\n",
      "2022-05-25: 200\n",
      "2022-05-26: 215\n",
      "2022-05-27: 243\n",
      "2022-05-28: 204\n",
      "2022-05-29: 192\n",
      "2022-05-30: 187\n",
      "2022-05-31: 195\n",
      "2022-06-01: 209\n",
      "2022-06-02: 205\n",
      "2022-06-03: 242\n",
      "2022-06-04: 215\n",
      "2022-06-05: 188\n",
      "2022-06-06: 204\n",
      "2022-06-07: 206\n",
      "2022-06-08: 215\n",
      "2022-06-09: 204\n",
      "2022-06-10: 234\n",
      "2022-06-11: 208\n",
      "2022-06-12: 204\n",
      "2022-06-13: 211\n",
      "2022-06-14: 220\n",
      "2022-06-15: 207\n",
      "2022-06-16: 223\n",
      "2022-06-17: 223\n",
      "2022-06-18: 229\n",
      "2022-06-19: 156\n",
      "2022-06-20: 201\n",
      "2022-06-21: 193\n",
      "2022-06-22: 181\n",
      "2022-06-23: 201\n",
      "2022-06-24: 188\n",
      "2022-06-25: 212\n",
      "2022-06-26: 162\n",
      "2022-06-27: 195\n",
      "2022-06-28: 221\n",
      "2022-06-29: 230\n",
      "2022-06-30: 204\n",
      "2022-07-01: 232\n",
      "2022-07-02: 213\n",
      "2022-07-03: 175\n",
      "2022-07-04: 169\n",
      "2022-07-05: 224\n",
      "2022-07-06: 223\n",
      "2022-07-07: 196\n",
      "2022-07-08: 197\n",
      "2022-07-09: 196\n",
      "2022-07-10: 178\n",
      "2022-07-11: 200\n",
      "2022-07-12: 211\n",
      "2022-07-13: 208\n",
      "2022-07-14: 191\n",
      "2022-07-15: 212\n",
      "2022-07-16: 203\n",
      "2022-07-17: 175\n",
      "2022-07-18: 223\n",
      "2022-07-19: 203\n",
      "2022-07-20: 229\n",
      "2022-07-21: 202\n",
      "2022-07-22: 209\n",
      "2022-07-23: 212\n",
      "2022-07-24: 188\n",
      "2022-07-25: 229\n",
      "2022-07-26: 206\n",
      "2022-07-27: 227\n",
      "2022-07-28: 224\n",
      "2022-07-29: 216\n",
      "2022-07-30: 217\n",
      "2022-07-31: 191\n",
      "2022-08-01: 240\n",
      "2022-08-02: 188\n",
      "2022-08-03: 224\n",
      "2022-08-04: 217\n",
      "2022-08-05: 214\n",
      "2022-08-06: 201\n",
      "2022-08-07: 168\n",
      "2022-08-08: 187\n",
      "2022-08-09: 203\n",
      "2022-08-10: 222\n",
      "2022-08-11: 205\n",
      "2022-08-12: 215\n",
      "2022-08-13: 216\n",
      "2022-08-14: 164\n",
      "2022-08-15: 221\n",
      "2022-08-16: 212\n",
      "2022-08-17: 214\n",
      "2022-08-18: 220\n",
      "2022-08-19: 224\n",
      "2022-08-20: 170\n",
      "2022-08-21: 210\n",
      "2022-08-22: 183\n",
      "2022-08-23: 207\n",
      "2022-08-24: 167\n",
      "2022-08-25: 164\n",
      "2022-08-26: 194\n",
      "2022-08-27: 213\n",
      "2022-08-28: 167\n",
      "2022-08-29: 201\n",
      "2022-08-30: 197\n",
      "2022-08-31: 246\n",
      "2022-09-01: 243\n",
      "2022-09-02: 211\n",
      "2022-09-03: 188\n",
      "2022-09-04: 177\n",
      "2022-09-05: 132\n",
      "2022-09-06: 140\n",
      "2022-09-07: 197\n",
      "2022-09-08: 199\n",
      "2022-09-09: 193\n",
      "2022-09-10: 200\n",
      "2022-09-11: 181\n",
      "2022-09-12: 230\n",
      "2022-09-13: 207\n",
      "2022-09-14: 211\n",
      "2022-09-15: 224\n",
      "2022-09-16: 217\n",
      "2022-09-17: 206\n",
      "2022-09-18: 174\n",
      "2022-09-19: 208\n",
      "2022-09-20: 183\n",
      "2022-09-21: 196\n",
      "2022-09-22: 197\n",
      "2022-09-23: 187\n",
      "2022-09-24: 207\n",
      "2022-09-25: 165\n",
      "2022-09-26: 208\n",
      "2022-09-27: 211\n",
      "2022-09-28: 240\n",
      "2022-09-29: 201\n",
      "2022-09-30: 205\n",
      "2022-10-01: 188\n",
      "2022-10-02: 181\n",
      "2022-10-03: 193\n",
      "2022-10-04: 156\n",
      "2022-10-05: 190\n",
      "2022-10-06: 216\n",
      "2022-10-07: 242\n",
      "2022-10-08: 190\n",
      "2022-10-09: 177\n",
      "2022-10-10: 197\n",
      "2022-10-11: 174\n",
      "2022-10-12: 214\n",
      "2022-10-13: 189\n",
      "2022-10-14: 229\n",
      "2022-10-15: 187\n",
      "2022-10-16: 167\n",
      "2022-10-17: 211\n",
      "2022-10-18: 185\n",
      "2022-10-19: 203\n",
      "2022-10-20: 192\n",
      "2022-10-21: 202\n",
      "2022-10-22: 189\n",
      "2022-10-23: 155\n",
      "2022-10-24: 179\n",
      "2022-10-25: 116\n",
      "2022-10-26: 175\n",
      "2022-10-27: 228\n",
      "2022-10-28: 169\n",
      "2022-10-29: 189\n",
      "2022-10-30: 173\n",
      "2022-10-31: 250\n",
      "2022-11-01: 224\n",
      "2022-11-02: 216\n",
      "2022-11-03: 209\n",
      "2022-11-04: 202\n",
      "2022-11-05: 187\n",
      "2022-11-06: 155\n",
      "2022-11-07: 227\n",
      "2022-11-08: 211\n",
      "2022-11-09: 208\n",
      "2022-11-10: 217\n",
      "2022-11-11: 219\n",
      "2022-11-12: 214\n",
      "2022-11-13: 180\n",
      "2022-11-14: 178\n",
      "2022-11-15: 212\n",
      "2022-11-16: 165\n",
      "2022-11-17: 210\n",
      "2022-11-18: 195\n",
      "2022-11-19: 180\n",
      "2022-11-20: 145\n",
      "2022-11-21: 197\n",
      "2022-11-22: 175\n",
      "2022-11-23: 170\n",
      "2022-11-24: 91\n",
      "2022-11-25: 159\n",
      "2022-11-26: 178\n",
      "2022-11-27: 147\n",
      "2022-11-28: 191\n",
      "2022-11-29: 178\n",
      "2022-11-30: 198\n",
      "2022-12-01: 237\n",
      "2022-12-02: 189\n",
      "2022-12-03: 166\n",
      "2022-12-04: 155\n",
      "2022-12-05: 202\n",
      "2022-12-06: 209\n",
      "2022-12-07: 201\n",
      "2022-12-08: 171\n",
      "2022-12-09: 213\n",
      "2022-12-10: 191\n",
      "2022-12-11: 174\n",
      "2022-12-12: 180\n",
      "2022-12-13: 194\n",
      "2022-12-14: 174\n",
      "2022-12-15: 187\n",
      "2022-12-16: 196\n",
      "2022-12-17: 179\n",
      "2022-12-18: 173\n",
      "2022-12-19: 204\n",
      "2022-12-20: 193\n",
      "2022-12-21: 209\n",
      "2022-12-22: 164\n",
      "2022-12-23: 156\n",
      "2022-12-24: 131\n",
      "2022-12-25: 81\n",
      "2022-12-26: 106\n",
      "2022-12-27: 156\n",
      "2022-12-28: 156\n",
      "2022-12-29: 154\n",
      "2022-12-30: 182\n",
      "2022-12-31: 178\n",
      "Results exported to 'Boston2022_datetime_counts.csv'\n"
     ]
    }
   ],
   "source": [
    "# Count the occurrences of each day in the year of 2022\n",
    "days = 0\n",
    "day_count = {}\n",
    "for dt in boston_crime_date:\n",
    "    if dt.year == 2022:\n",
    "        day_str = dt.strftime('%Y-%m-%d')\n",
    "        if day_str not in day_count:\n",
    "            day_count[day_str] = 0\n",
    "        day_count[day_str] += 1\n",
    "        days += 1\n",
    "\n",
    "# Print the results\n",
    "total = 0\n",
    "print(\"Occurrence count for each day in the year of 2022:\")\n",
    "for day, count in sorted(day_count.items()):\n",
    "    total += count\n",
    "    print(f\"{day}: {count}\")\n",
    "    \n",
    "csv_str = 'Date,Occurrences\\n'\n",
    "for day, count in sorted(day_count.items()):\n",
    "    csv_str += f\"{day},{count}\\n\"\n",
    "\n",
    "# Export the results to a CSV file\n",
    "with open('Boston2022_datetime_counts.csv', 'w') as file:\n",
    "    file.write(csv_str)\n",
    "\n",
    "print(\"Results exported to 'Boston2022_datetime_counts.csv'\")"
   ]
  },
  {
   "cell_type": "code",
   "execution_count": 51,
   "id": "ebe57a11",
   "metadata": {},
   "outputs": [
    {
     "name": "stdout",
     "output_type": "stream",
     "text": [
      "70044\n"
     ]
    }
   ],
   "source": [
    "print(total)"
   ]
  },
  {
   "cell_type": "code",
   "execution_count": null,
   "id": "3d31f25c",
   "metadata": {},
   "outputs": [],
   "source": []
  }
 ],
 "metadata": {
  "kernelspec": {
   "display_name": "Python 3 (ipykernel)",
   "language": "python",
   "name": "python3"
  },
  "language_info": {
   "codemirror_mode": {
    "name": "ipython",
    "version": 3
   },
   "file_extension": ".py",
   "mimetype": "text/x-python",
   "name": "python",
   "nbconvert_exporter": "python",
   "pygments_lexer": "ipython3",
   "version": "3.7.16"
  }
 },
 "nbformat": 4,
 "nbformat_minor": 5
}
